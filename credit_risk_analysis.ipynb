{
 "cells": [
  {
   "cell_type": "markdown",
   "id": "00448255-40de-4e58-92f9-ab480054da5a",
   "metadata": {},
   "source": [
    "#  Code by Aprilia DR"
   ]
  },
  {
   "cell_type": "code",
   "execution_count": 1,
   "id": "498df623-130e-4964-a3e2-20d3532f2664",
   "metadata": {},
   "outputs": [],
   "source": [
    "import pandas as pd\n",
    "import numpy as np\n",
    "import matplotlib.pyplot as plt\n",
    "import seaborn as sns\n",
    "from matplotlib import rcParams\n",
    "from datetime import datetime as dt\n",
    "\n",
    "from sklearn.model_selection import train_test_split\n",
    "from collections import defaultdict\n",
    "\n",
    "from sklearn.tree import DecisionTreeClassifier\n",
    "from sklearn.ensemble import RandomForestClassifier\n",
    "from imblearn.over_sampling import SMOTE\n",
    "from warnings import filterwarnings\n",
    "filterwarnings('ignore')"
   ]
  },
  {
   "cell_type": "markdown",
   "id": "1cc5e1cd-8347-4b57-9a3c-ba161019d16a",
   "metadata": {},
   "source": [
    "# Import Dataset"
   ]
  },
  {
   "cell_type": "code",
   "execution_count": 2,
   "id": "b1bb7015-ed48-44a2-a8f4-5889b709d83e",
   "metadata": {},
   "outputs": [],
   "source": [
    "application = pd.read_csv('C:/Users/April/OneDrive/Documents/0 CV APRIL-20210124T125347Z-001/super/Technical Test - Data Scientist/Technical Test - Data Scientist/application_record.csv')\n",
    "credit_record = pd.read_csv('C:/Users/April/OneDrive/Documents/0 CV APRIL-20210124T125347Z-001/super/Technical Test - Data Scientist/Technical Test - Data Scientist/credit_record.csv')"
   ]
  },
  {
   "cell_type": "markdown",
   "id": "be0fddf1-06d2-4038-8b59-aabf98fe3a31",
   "metadata": {},
   "source": [
    "## understanding dataset application"
   ]
  },
  {
   "cell_type": "code",
   "execution_count": 3,
   "id": "e13160a4-39a8-4255-b967-b32e50f5f79f",
   "metadata": {},
   "outputs": [
    {
     "name": "stdout",
     "output_type": "stream",
     "text": [
      "<class 'pandas.core.frame.DataFrame'>\n",
      "RangeIndex: 438557 entries, 0 to 438556\n",
      "Data columns (total 18 columns):\n",
      " #   Column               Non-Null Count   Dtype  \n",
      "---  ------               --------------   -----  \n",
      " 0   ID                   438557 non-null  int64  \n",
      " 1   CODE_GENDER          438557 non-null  object \n",
      " 2   FLAG_OWN_CAR         438557 non-null  object \n",
      " 3   FLAG_OWN_REALTY      438557 non-null  object \n",
      " 4   CNT_CHILDREN         438557 non-null  int64  \n",
      " 5   AMT_INCOME_TOTAL     438557 non-null  float64\n",
      " 6   NAME_INCOME_TYPE     438557 non-null  object \n",
      " 7   NAME_EDUCATION_TYPE  438557 non-null  object \n",
      " 8   NAME_FAMILY_STATUS   438557 non-null  object \n",
      " 9   NAME_HOUSING_TYPE    438557 non-null  object \n",
      " 10  DAYS_BIRTH           438557 non-null  int64  \n",
      " 11  DAYS_EMPLOYED        438557 non-null  int64  \n",
      " 12  FLAG_MOBIL           438557 non-null  int64  \n",
      " 13  FLAG_WORK_PHONE      438557 non-null  int64  \n",
      " 14  FLAG_PHONE           438557 non-null  int64  \n",
      " 15  FLAG_EMAIL           438557 non-null  int64  \n",
      " 16  OCCUPATION_TYPE      304354 non-null  object \n",
      " 17  CNT_FAM_MEMBERS      438557 non-null  float64\n",
      "dtypes: float64(2), int64(8), object(8)\n",
      "memory usage: 60.2+ MB\n"
     ]
    }
   ],
   "source": [
    "application.info()"
   ]
  },
  {
   "cell_type": "code",
   "execution_count": 4,
   "id": "ab770010-da81-430b-a135-5121321199fe",
   "metadata": {},
   "outputs": [
    {
     "data": {
      "text/html": [
       "<div>\n",
       "<style scoped>\n",
       "    .dataframe tbody tr th:only-of-type {\n",
       "        vertical-align: middle;\n",
       "    }\n",
       "\n",
       "    .dataframe tbody tr th {\n",
       "        vertical-align: top;\n",
       "    }\n",
       "\n",
       "    .dataframe thead th {\n",
       "        text-align: right;\n",
       "    }\n",
       "</style>\n",
       "<table border=\"1\" class=\"dataframe\">\n",
       "  <thead>\n",
       "    <tr style=\"text-align: right;\">\n",
       "      <th></th>\n",
       "      <th>ID</th>\n",
       "      <th>CODE_GENDER</th>\n",
       "      <th>FLAG_OWN_CAR</th>\n",
       "      <th>FLAG_OWN_REALTY</th>\n",
       "      <th>CNT_CHILDREN</th>\n",
       "      <th>AMT_INCOME_TOTAL</th>\n",
       "      <th>NAME_INCOME_TYPE</th>\n",
       "      <th>NAME_EDUCATION_TYPE</th>\n",
       "      <th>NAME_FAMILY_STATUS</th>\n",
       "      <th>NAME_HOUSING_TYPE</th>\n",
       "      <th>DAYS_BIRTH</th>\n",
       "      <th>DAYS_EMPLOYED</th>\n",
       "      <th>FLAG_MOBIL</th>\n",
       "      <th>FLAG_WORK_PHONE</th>\n",
       "      <th>FLAG_PHONE</th>\n",
       "      <th>FLAG_EMAIL</th>\n",
       "      <th>OCCUPATION_TYPE</th>\n",
       "      <th>CNT_FAM_MEMBERS</th>\n",
       "    </tr>\n",
       "  </thead>\n",
       "  <tbody>\n",
       "    <tr>\n",
       "      <th>84917</th>\n",
       "      <td>6448858</td>\n",
       "      <td>F</td>\n",
       "      <td>N</td>\n",
       "      <td>N</td>\n",
       "      <td>0</td>\n",
       "      <td>270000.0</td>\n",
       "      <td>Working</td>\n",
       "      <td>Secondary / secondary special</td>\n",
       "      <td>Married</td>\n",
       "      <td>House / apartment</td>\n",
       "      <td>-16821</td>\n",
       "      <td>-2863</td>\n",
       "      <td>1</td>\n",
       "      <td>0</td>\n",
       "      <td>0</td>\n",
       "      <td>0</td>\n",
       "      <td>Sales staff</td>\n",
       "      <td>2.0</td>\n",
       "    </tr>\n",
       "    <tr>\n",
       "      <th>252879</th>\n",
       "      <td>6054553</td>\n",
       "      <td>M</td>\n",
       "      <td>Y</td>\n",
       "      <td>Y</td>\n",
       "      <td>0</td>\n",
       "      <td>135000.0</td>\n",
       "      <td>Working</td>\n",
       "      <td>Secondary / secondary special</td>\n",
       "      <td>Separated</td>\n",
       "      <td>House / apartment</td>\n",
       "      <td>-17000</td>\n",
       "      <td>-1062</td>\n",
       "      <td>1</td>\n",
       "      <td>0</td>\n",
       "      <td>1</td>\n",
       "      <td>0</td>\n",
       "      <td>Security staff</td>\n",
       "      <td>1.0</td>\n",
       "    </tr>\n",
       "    <tr>\n",
       "      <th>420793</th>\n",
       "      <td>6841684</td>\n",
       "      <td>F</td>\n",
       "      <td>N</td>\n",
       "      <td>N</td>\n",
       "      <td>0</td>\n",
       "      <td>67500.0</td>\n",
       "      <td>Working</td>\n",
       "      <td>Secondary / secondary special</td>\n",
       "      <td>Separated</td>\n",
       "      <td>Municipal apartment</td>\n",
       "      <td>-18443</td>\n",
       "      <td>-2441</td>\n",
       "      <td>1</td>\n",
       "      <td>1</td>\n",
       "      <td>0</td>\n",
       "      <td>0</td>\n",
       "      <td>Core staff</td>\n",
       "      <td>1.0</td>\n",
       "    </tr>\n",
       "    <tr>\n",
       "      <th>22929</th>\n",
       "      <td>5067394</td>\n",
       "      <td>F</td>\n",
       "      <td>N</td>\n",
       "      <td>Y</td>\n",
       "      <td>0</td>\n",
       "      <td>157500.0</td>\n",
       "      <td>Commercial associate</td>\n",
       "      <td>Secondary / secondary special</td>\n",
       "      <td>Single / not married</td>\n",
       "      <td>House / apartment</td>\n",
       "      <td>-18258</td>\n",
       "      <td>-628</td>\n",
       "      <td>1</td>\n",
       "      <td>1</td>\n",
       "      <td>1</td>\n",
       "      <td>0</td>\n",
       "      <td>Laborers</td>\n",
       "      <td>1.0</td>\n",
       "    </tr>\n",
       "    <tr>\n",
       "      <th>347607</th>\n",
       "      <td>6510263</td>\n",
       "      <td>F</td>\n",
       "      <td>N</td>\n",
       "      <td>Y</td>\n",
       "      <td>1</td>\n",
       "      <td>135000.0</td>\n",
       "      <td>Commercial associate</td>\n",
       "      <td>Secondary / secondary special</td>\n",
       "      <td>Separated</td>\n",
       "      <td>House / apartment</td>\n",
       "      <td>-13925</td>\n",
       "      <td>-5260</td>\n",
       "      <td>1</td>\n",
       "      <td>0</td>\n",
       "      <td>0</td>\n",
       "      <td>0</td>\n",
       "      <td>Drivers</td>\n",
       "      <td>2.0</td>\n",
       "    </tr>\n",
       "  </tbody>\n",
       "</table>\n",
       "</div>"
      ],
      "text/plain": [
       "             ID CODE_GENDER FLAG_OWN_CAR FLAG_OWN_REALTY  CNT_CHILDREN  \\\n",
       "84917   6448858           F            N               N             0   \n",
       "252879  6054553           M            Y               Y             0   \n",
       "420793  6841684           F            N               N             0   \n",
       "22929   5067394           F            N               Y             0   \n",
       "347607  6510263           F            N               Y             1   \n",
       "\n",
       "        AMT_INCOME_TOTAL      NAME_INCOME_TYPE            NAME_EDUCATION_TYPE  \\\n",
       "84917           270000.0               Working  Secondary / secondary special   \n",
       "252879          135000.0               Working  Secondary / secondary special   \n",
       "420793           67500.0               Working  Secondary / secondary special   \n",
       "22929           157500.0  Commercial associate  Secondary / secondary special   \n",
       "347607          135000.0  Commercial associate  Secondary / secondary special   \n",
       "\n",
       "          NAME_FAMILY_STATUS    NAME_HOUSING_TYPE  DAYS_BIRTH  DAYS_EMPLOYED  \\\n",
       "84917                Married    House / apartment      -16821          -2863   \n",
       "252879             Separated    House / apartment      -17000          -1062   \n",
       "420793             Separated  Municipal apartment      -18443          -2441   \n",
       "22929   Single / not married    House / apartment      -18258           -628   \n",
       "347607             Separated    House / apartment      -13925          -5260   \n",
       "\n",
       "        FLAG_MOBIL  FLAG_WORK_PHONE  FLAG_PHONE  FLAG_EMAIL OCCUPATION_TYPE  \\\n",
       "84917            1                0           0           0     Sales staff   \n",
       "252879           1                0           1           0  Security staff   \n",
       "420793           1                1           0           0      Core staff   \n",
       "22929            1                1           1           0        Laborers   \n",
       "347607           1                0           0           0         Drivers   \n",
       "\n",
       "        CNT_FAM_MEMBERS  \n",
       "84917               2.0  \n",
       "252879              1.0  \n",
       "420793              1.0  \n",
       "22929               1.0  \n",
       "347607              2.0  "
      ]
     },
     "execution_count": 4,
     "metadata": {},
     "output_type": "execute_result"
    }
   ],
   "source": [
    "application.sample(5)"
   ]
  },
  {
   "cell_type": "code",
   "execution_count": 5,
   "id": "4d150350-50bc-4bdd-b04a-a6bc5efe4fad",
   "metadata": {},
   "outputs": [
    {
     "data": {
      "text/plain": [
       "ID                     438510\n",
       "CODE_GENDER                 2\n",
       "FLAG_OWN_CAR                2\n",
       "FLAG_OWN_REALTY             2\n",
       "CNT_CHILDREN               12\n",
       "AMT_INCOME_TOTAL          866\n",
       "NAME_INCOME_TYPE            5\n",
       "NAME_EDUCATION_TYPE         5\n",
       "NAME_FAMILY_STATUS          5\n",
       "NAME_HOUSING_TYPE           6\n",
       "DAYS_BIRTH              16379\n",
       "DAYS_EMPLOYED            9406\n",
       "FLAG_MOBIL                  1\n",
       "FLAG_WORK_PHONE             2\n",
       "FLAG_PHONE                  2\n",
       "FLAG_EMAIL                  2\n",
       "OCCUPATION_TYPE            18\n",
       "CNT_FAM_MEMBERS            13\n",
       "dtype: int64"
      ]
     },
     "execution_count": 5,
     "metadata": {},
     "output_type": "execute_result"
    }
   ],
   "source": [
    "application.nunique()"
   ]
  },
  {
   "cell_type": "markdown",
   "id": "6e054795-36fe-49e3-9081-d69947afb41e",
   "metadata": {},
   "source": [
    "dari sampling dataset application, feature FLAG_MOBIL hanya memiliki 1 jenis data, sehingga nanti bisa diabaikan karena tidak memberikan insight "
   ]
  },
  {
   "cell_type": "markdown",
   "id": "516dfef1-e95a-4d34-b3fa-54cf988f2725",
   "metadata": {},
   "source": [
    "## understanding dataset credit_record"
   ]
  },
  {
   "cell_type": "code",
   "execution_count": 6,
   "id": "8e6086ee-9748-4c43-aa73-d442e34e86ba",
   "metadata": {},
   "outputs": [
    {
     "name": "stdout",
     "output_type": "stream",
     "text": [
      "<class 'pandas.core.frame.DataFrame'>\n",
      "RangeIndex: 1048575 entries, 0 to 1048574\n",
      "Data columns (total 3 columns):\n",
      " #   Column          Non-Null Count    Dtype \n",
      "---  ------          --------------    ----- \n",
      " 0   ID              1048575 non-null  int64 \n",
      " 1   MONTHS_BALANCE  1048575 non-null  int64 \n",
      " 2   STATUS          1048575 non-null  object\n",
      "dtypes: int64(2), object(1)\n",
      "memory usage: 24.0+ MB\n"
     ]
    }
   ],
   "source": [
    "credit_record.info()"
   ]
  },
  {
   "cell_type": "code",
   "execution_count": 7,
   "id": "fe4a7429-f7ff-45a0-a9b4-e73dbfec0eb9",
   "metadata": {},
   "outputs": [
    {
     "data": {
      "text/html": [
       "<div>\n",
       "<style scoped>\n",
       "    .dataframe tbody tr th:only-of-type {\n",
       "        vertical-align: middle;\n",
       "    }\n",
       "\n",
       "    .dataframe tbody tr th {\n",
       "        vertical-align: top;\n",
       "    }\n",
       "\n",
       "    .dataframe thead th {\n",
       "        text-align: right;\n",
       "    }\n",
       "</style>\n",
       "<table border=\"1\" class=\"dataframe\">\n",
       "  <thead>\n",
       "    <tr style=\"text-align: right;\">\n",
       "      <th></th>\n",
       "      <th>ID</th>\n",
       "      <th>MONTHS_BALANCE</th>\n",
       "      <th>STATUS</th>\n",
       "    </tr>\n",
       "  </thead>\n",
       "  <tbody>\n",
       "    <tr>\n",
       "      <th>396701</th>\n",
       "      <td>5046347</td>\n",
       "      <td>-19</td>\n",
       "      <td>0</td>\n",
       "    </tr>\n",
       "    <tr>\n",
       "      <th>699421</th>\n",
       "      <td>5095354</td>\n",
       "      <td>-1</td>\n",
       "      <td>C</td>\n",
       "    </tr>\n",
       "    <tr>\n",
       "      <th>14398</th>\n",
       "      <td>5002376</td>\n",
       "      <td>-4</td>\n",
       "      <td>X</td>\n",
       "    </tr>\n",
       "    <tr>\n",
       "      <th>92777</th>\n",
       "      <td>5005897</td>\n",
       "      <td>-9</td>\n",
       "      <td>X</td>\n",
       "    </tr>\n",
       "    <tr>\n",
       "      <th>613834</th>\n",
       "      <td>5079048</td>\n",
       "      <td>-42</td>\n",
       "      <td>0</td>\n",
       "    </tr>\n",
       "  </tbody>\n",
       "</table>\n",
       "</div>"
      ],
      "text/plain": [
       "             ID  MONTHS_BALANCE STATUS\n",
       "396701  5046347             -19      0\n",
       "699421  5095354              -1      C\n",
       "14398   5002376              -4      X\n",
       "92777   5005897              -9      X\n",
       "613834  5079048             -42      0"
      ]
     },
     "execution_count": 7,
     "metadata": {},
     "output_type": "execute_result"
    }
   ],
   "source": [
    "credit_record.sample(5)"
   ]
  },
  {
   "cell_type": "code",
   "execution_count": 8,
   "id": "2f37e1f0-859b-4007-bfef-ac5129b7ffb8",
   "metadata": {},
   "outputs": [
    {
     "data": {
      "text/plain": [
       "ID                45985\n",
       "MONTHS_BALANCE       61\n",
       "STATUS                8\n",
       "dtype: int64"
      ]
     },
     "execution_count": 8,
     "metadata": {},
     "output_type": "execute_result"
    }
   ],
   "source": [
    "credit_record.nunique()"
   ]
  },
  {
   "cell_type": "markdown",
   "id": "c145ccb0-02ad-4f52-93bd-88be4f0bd326",
   "metadata": {},
   "source": [
    "# Preprocessing"
   ]
  },
  {
   "cell_type": "markdown",
   "id": "a4644913-17b9-4c2b-ad8a-b2e75aab2f12",
   "metadata": {},
   "source": [
    "## Handling missing value"
   ]
  },
  {
   "cell_type": "code",
   "execution_count": 9,
   "id": "e442d863-10d3-401c-8398-217c6e461982",
   "metadata": {},
   "outputs": [
    {
     "data": {
      "text/plain": [
       "ID                      0.000000\n",
       "CODE_GENDER             0.000000\n",
       "FLAG_OWN_CAR            0.000000\n",
       "FLAG_OWN_REALTY         0.000000\n",
       "CNT_CHILDREN            0.000000\n",
       "AMT_INCOME_TOTAL        0.000000\n",
       "NAME_INCOME_TYPE        0.000000\n",
       "NAME_EDUCATION_TYPE     0.000000\n",
       "NAME_FAMILY_STATUS      0.000000\n",
       "NAME_HOUSING_TYPE       0.000000\n",
       "DAYS_BIRTH              0.000000\n",
       "DAYS_EMPLOYED           0.000000\n",
       "FLAG_MOBIL              0.000000\n",
       "FLAG_WORK_PHONE         0.000000\n",
       "FLAG_PHONE              0.000000\n",
       "FLAG_EMAIL              0.000000\n",
       "OCCUPATION_TYPE        30.601039\n",
       "CNT_FAM_MEMBERS         0.000000\n",
       "dtype: float64"
      ]
     },
     "execution_count": 9,
     "metadata": {},
     "output_type": "execute_result"
    }
   ],
   "source": [
    "application.isnull().sum()*100 / application.shape[0]"
   ]
  },
  {
   "cell_type": "markdown",
   "id": "19de6893-ef33-4d71-a034-91af50f863eb",
   "metadata": {},
   "source": [
    " 30% data di feature OCCUPATION_TYPE hilang, sehingga feature ini akan di drop"
   ]
  },
  {
   "cell_type": "code",
   "execution_count": 10,
   "id": "c649a962-8136-49dd-83ed-9dd661473569",
   "metadata": {},
   "outputs": [],
   "source": [
    "application.drop('OCCUPATION_TYPE', axis=1, inplace=True)"
   ]
  },
  {
   "cell_type": "code",
   "execution_count": 11,
   "id": "bf330b71-48df-481d-b60d-cbb2a5971490",
   "metadata": {},
   "outputs": [
    {
     "data": {
      "text/plain": [
       "ID                0\n",
       "MONTHS_BALANCE    0\n",
       "STATUS            0\n",
       "dtype: int64"
      ]
     },
     "execution_count": 11,
     "metadata": {},
     "output_type": "execute_result"
    }
   ],
   "source": [
    "credit_record.isnull().sum()"
   ]
  },
  {
   "cell_type": "markdown",
   "id": "586af08f-d32c-4669-9643-99c0143cca89",
   "metadata": {},
   "source": [
    "dataset credit_record tidak memiliki missing value"
   ]
  },
  {
   "cell_type": "markdown",
   "id": "3ff4582a-91b0-4a36-b02b-cea751bccaf7",
   "metadata": {},
   "source": [
    "## Handling duplicated data"
   ]
  },
  {
   "cell_type": "code",
   "execution_count": 12,
   "id": "0c79474a-685f-43c6-b32b-24c278f05439",
   "metadata": {},
   "outputs": [
    {
     "data": {
      "text/plain": [
       "False    438557\n",
       "dtype: int64"
      ]
     },
     "execution_count": 12,
     "metadata": {},
     "output_type": "execute_result"
    }
   ],
   "source": [
    "application.duplicated().value_counts()"
   ]
  },
  {
   "cell_type": "code",
   "execution_count": 13,
   "id": "9490949c-a452-4e31-8141-d9ec47710045",
   "metadata": {},
   "outputs": [
    {
     "data": {
      "text/plain": [
       "False    1048575\n",
       "dtype: int64"
      ]
     },
     "execution_count": 13,
     "metadata": {},
     "output_type": "execute_result"
    }
   ],
   "source": [
    "credit_record.duplicated().value_counts()"
   ]
  },
  {
   "cell_type": "markdown",
   "id": "9b41e20c-d758-4e52-9102-4c77245d8ada",
   "metadata": {},
   "source": [
    "tidak terdapat data duplicate untuk kedua dataset"
   ]
  },
  {
   "cell_type": "markdown",
   "id": "74f3628b-d408-437d-acd0-c59b486cdb64",
   "metadata": {},
   "source": [
    "## Create Label"
   ]
  },
  {
   "cell_type": "code",
   "execution_count": 14,
   "id": "29fca585-2d86-47f8-9a2a-ef4e23e3af36",
   "metadata": {},
   "outputs": [
    {
     "data": {
      "text/plain": [
       "C    42.155401\n",
       "0    36.537205\n",
       "X    19.953747\n",
       "1     1.057626\n",
       "5     0.161457\n",
       "2     0.082779\n",
       "3     0.030518\n",
       "4     0.021267\n",
       "Name: STATUS, dtype: float64"
      ]
     },
     "execution_count": 14,
     "metadata": {},
     "output_type": "execute_result"
    }
   ],
   "source": [
    "credit_record['STATUS'].value_counts()/credit_record.shape[0]*100"
   ]
  },
  {
   "cell_type": "code",
   "execution_count": 15,
   "id": "bf89860d-fa82-48cb-8386-5414b60a15dd",
   "metadata": {},
   "outputs": [],
   "source": [
    "#melabeli default clients \n",
    "\n",
    "default = ['0','1','2','3','4','5']"
   ]
  },
  {
   "cell_type": "code",
   "execution_count": 16,
   "id": "41ec3d5a-4eb9-4e21-afeb-1520751c4191",
   "metadata": {},
   "outputs": [],
   "source": [
    "credit_record['LABEL'] = np.where(credit_record.STATUS.isin(default),1,0)"
   ]
  },
  {
   "cell_type": "code",
   "execution_count": 17,
   "id": "2a79107d-3a03-432e-a826-e169dfd612ab",
   "metadata": {},
   "outputs": [
    {
     "data": {
      "text/html": [
       "<div>\n",
       "<style scoped>\n",
       "    .dataframe tbody tr th:only-of-type {\n",
       "        vertical-align: middle;\n",
       "    }\n",
       "\n",
       "    .dataframe tbody tr th {\n",
       "        vertical-align: top;\n",
       "    }\n",
       "\n",
       "    .dataframe thead th {\n",
       "        text-align: right;\n",
       "    }\n",
       "</style>\n",
       "<table border=\"1\" class=\"dataframe\">\n",
       "  <thead>\n",
       "    <tr style=\"text-align: right;\">\n",
       "      <th></th>\n",
       "      <th>ID</th>\n",
       "      <th>MONTHS_BALANCE</th>\n",
       "      <th>STATUS</th>\n",
       "      <th>LABEL</th>\n",
       "    </tr>\n",
       "  </thead>\n",
       "  <tbody>\n",
       "    <tr>\n",
       "      <th>0</th>\n",
       "      <td>5001711</td>\n",
       "      <td>0</td>\n",
       "      <td>X</td>\n",
       "      <td>0</td>\n",
       "    </tr>\n",
       "    <tr>\n",
       "      <th>1</th>\n",
       "      <td>5001711</td>\n",
       "      <td>-1</td>\n",
       "      <td>0</td>\n",
       "      <td>1</td>\n",
       "    </tr>\n",
       "    <tr>\n",
       "      <th>2</th>\n",
       "      <td>5001711</td>\n",
       "      <td>-2</td>\n",
       "      <td>0</td>\n",
       "      <td>1</td>\n",
       "    </tr>\n",
       "  </tbody>\n",
       "</table>\n",
       "</div>"
      ],
      "text/plain": [
       "        ID  MONTHS_BALANCE STATUS  LABEL\n",
       "0  5001711               0      X      0\n",
       "1  5001711              -1      0      1\n",
       "2  5001711              -2      0      1"
      ]
     },
     "execution_count": 17,
     "metadata": {},
     "output_type": "execute_result"
    }
   ],
   "source": [
    "credit_record.head(3)"
   ]
  },
  {
   "cell_type": "code",
   "execution_count": 18,
   "id": "5a0fc677-017d-419b-bb63-51453d3e6c83",
   "metadata": {},
   "outputs": [],
   "source": [
    "#drop feature STATUS karena sudah tidak diperlukan\n",
    "credit_record.drop('STATUS', axis=1, inplace=True)"
   ]
  },
  {
   "cell_type": "code",
   "execution_count": 19,
   "id": "8e70ce9a-f6ca-4d99-bdde-a4701fffad73",
   "metadata": {},
   "outputs": [
    {
     "data": {
      "text/html": [
       "<div>\n",
       "<style scoped>\n",
       "    .dataframe tbody tr th:only-of-type {\n",
       "        vertical-align: middle;\n",
       "    }\n",
       "\n",
       "    .dataframe tbody tr th {\n",
       "        vertical-align: top;\n",
       "    }\n",
       "\n",
       "    .dataframe thead th {\n",
       "        text-align: right;\n",
       "    }\n",
       "</style>\n",
       "<table border=\"1\" class=\"dataframe\">\n",
       "  <thead>\n",
       "    <tr style=\"text-align: right;\">\n",
       "      <th></th>\n",
       "      <th>ID</th>\n",
       "      <th>MONTHS_BALANCE</th>\n",
       "      <th>LABEL</th>\n",
       "    </tr>\n",
       "  </thead>\n",
       "  <tbody>\n",
       "    <tr>\n",
       "      <th>0</th>\n",
       "      <td>5001711</td>\n",
       "      <td>0</td>\n",
       "      <td>0</td>\n",
       "    </tr>\n",
       "    <tr>\n",
       "      <th>1</th>\n",
       "      <td>5001711</td>\n",
       "      <td>-1</td>\n",
       "      <td>1</td>\n",
       "    </tr>\n",
       "    <tr>\n",
       "      <th>2</th>\n",
       "      <td>5001711</td>\n",
       "      <td>-2</td>\n",
       "      <td>1</td>\n",
       "    </tr>\n",
       "  </tbody>\n",
       "</table>\n",
       "</div>"
      ],
      "text/plain": [
       "        ID  MONTHS_BALANCE  LABEL\n",
       "0  5001711               0      0\n",
       "1  5001711              -1      1\n",
       "2  5001711              -2      1"
      ]
     },
     "execution_count": 19,
     "metadata": {},
     "output_type": "execute_result"
    }
   ],
   "source": [
    "credit_record.head(3)"
   ]
  },
  {
   "cell_type": "code",
   "execution_count": 20,
   "id": "bb4ae92a-dd0f-4fb7-8a9e-a14e653e49ea",
   "metadata": {},
   "outputs": [
    {
     "data": {
      "text/plain": [
       "0    651261\n",
       "1    397314\n",
       "Name: LABEL, dtype: int64"
      ]
     },
     "execution_count": 20,
     "metadata": {},
     "output_type": "execute_result"
    }
   ],
   "source": [
    "credit_record['LABEL'].value_counts()"
   ]
  },
  {
   "cell_type": "code",
   "execution_count": 21,
   "id": "2c6dbcc6-888b-4e0c-8f12-a6939951962c",
   "metadata": {},
   "outputs": [
    {
     "data": {
      "text/plain": [
       "<AxesSubplot:xlabel='LABEL', ylabel='count'>"
      ]
     },
     "execution_count": 21,
     "metadata": {},
     "output_type": "execute_result"
    },
    {
     "data": {
      "image/png": "[encoded data removed]",
      "text/plain": [
       "<Figure size 432x288 with 1 Axes>"
      ]
     },
     "metadata": {
      "needs_background": "light"
     },
     "output_type": "display_data"
    }
   ],
   "source": [
    "#plotting label\n",
    "\n",
    "sns.countplot(x = 'LABEL', data = credit_record)"
   ]
  },
  {
   "cell_type": "markdown",
   "id": "8d5b583c-95ed-4caf-8d9d-67217662ce81",
   "metadata": {},
   "source": [
    "Label '0' merepresentasikan good loan, sedangkan '1' merepresentasikan bad loan"
   ]
  },
  {
   "cell_type": "markdown",
   "id": "985f3b71-04d4-4358-b07f-86f39d63246a",
   "metadata": {},
   "source": [
    "## Merge two datasets"
   ]
  },
  {
   "cell_type": "code",
   "execution_count": 22,
   "id": "86e7deed-36fd-4ffa-b89f-1cd0623f0e00",
   "metadata": {},
   "outputs": [
    {
     "data": {
      "text/html": [
       "<div>\n",
       "<style scoped>\n",
       "    .dataframe tbody tr th:only-of-type {\n",
       "        vertical-align: middle;\n",
       "    }\n",
       "\n",
       "    .dataframe tbody tr th {\n",
       "        vertical-align: top;\n",
       "    }\n",
       "\n",
       "    .dataframe thead th {\n",
       "        text-align: right;\n",
       "    }\n",
       "</style>\n",
       "<table border=\"1\" class=\"dataframe\">\n",
       "  <thead>\n",
       "    <tr style=\"text-align: right;\">\n",
       "      <th></th>\n",
       "      <th>ID</th>\n",
       "      <th>MONTHS_BALANCE</th>\n",
       "      <th>LABEL</th>\n",
       "      <th>CODE_GENDER</th>\n",
       "      <th>FLAG_OWN_CAR</th>\n",
       "      <th>FLAG_OWN_REALTY</th>\n",
       "      <th>CNT_CHILDREN</th>\n",
       "      <th>AMT_INCOME_TOTAL</th>\n",
       "      <th>NAME_INCOME_TYPE</th>\n",
       "      <th>NAME_EDUCATION_TYPE</th>\n",
       "      <th>NAME_FAMILY_STATUS</th>\n",
       "      <th>NAME_HOUSING_TYPE</th>\n",
       "      <th>DAYS_BIRTH</th>\n",
       "      <th>DAYS_EMPLOYED</th>\n",
       "      <th>FLAG_MOBIL</th>\n",
       "      <th>FLAG_WORK_PHONE</th>\n",
       "      <th>FLAG_PHONE</th>\n",
       "      <th>FLAG_EMAIL</th>\n",
       "      <th>CNT_FAM_MEMBERS</th>\n",
       "    </tr>\n",
       "  </thead>\n",
       "  <tbody>\n",
       "    <tr>\n",
       "      <th>0</th>\n",
       "      <td>5001711</td>\n",
       "      <td>0</td>\n",
       "      <td>0</td>\n",
       "      <td>NaN</td>\n",
       "      <td>NaN</td>\n",
       "      <td>NaN</td>\n",
       "      <td>NaN</td>\n",
       "      <td>NaN</td>\n",
       "      <td>NaN</td>\n",
       "      <td>NaN</td>\n",
       "      <td>NaN</td>\n",
       "      <td>NaN</td>\n",
       "      <td>NaN</td>\n",
       "      <td>NaN</td>\n",
       "      <td>NaN</td>\n",
       "      <td>NaN</td>\n",
       "      <td>NaN</td>\n",
       "      <td>NaN</td>\n",
       "      <td>NaN</td>\n",
       "    </tr>\n",
       "    <tr>\n",
       "      <th>1</th>\n",
       "      <td>5001711</td>\n",
       "      <td>-1</td>\n",
       "      <td>1</td>\n",
       "      <td>NaN</td>\n",
       "      <td>NaN</td>\n",
       "      <td>NaN</td>\n",
       "      <td>NaN</td>\n",
       "      <td>NaN</td>\n",
       "      <td>NaN</td>\n",
       "      <td>NaN</td>\n",
       "      <td>NaN</td>\n",
       "      <td>NaN</td>\n",
       "      <td>NaN</td>\n",
       "      <td>NaN</td>\n",
       "      <td>NaN</td>\n",
       "      <td>NaN</td>\n",
       "      <td>NaN</td>\n",
       "      <td>NaN</td>\n",
       "      <td>NaN</td>\n",
       "    </tr>\n",
       "    <tr>\n",
       "      <th>2</th>\n",
       "      <td>5001711</td>\n",
       "      <td>-2</td>\n",
       "      <td>1</td>\n",
       "      <td>NaN</td>\n",
       "      <td>NaN</td>\n",
       "      <td>NaN</td>\n",
       "      <td>NaN</td>\n",
       "      <td>NaN</td>\n",
       "      <td>NaN</td>\n",
       "      <td>NaN</td>\n",
       "      <td>NaN</td>\n",
       "      <td>NaN</td>\n",
       "      <td>NaN</td>\n",
       "      <td>NaN</td>\n",
       "      <td>NaN</td>\n",
       "      <td>NaN</td>\n",
       "      <td>NaN</td>\n",
       "      <td>NaN</td>\n",
       "      <td>NaN</td>\n",
       "    </tr>\n",
       "    <tr>\n",
       "      <th>3</th>\n",
       "      <td>5001711</td>\n",
       "      <td>-3</td>\n",
       "      <td>1</td>\n",
       "      <td>NaN</td>\n",
       "      <td>NaN</td>\n",
       "      <td>NaN</td>\n",
       "      <td>NaN</td>\n",
       "      <td>NaN</td>\n",
       "      <td>NaN</td>\n",
       "      <td>NaN</td>\n",
       "      <td>NaN</td>\n",
       "      <td>NaN</td>\n",
       "      <td>NaN</td>\n",
       "      <td>NaN</td>\n",
       "      <td>NaN</td>\n",
       "      <td>NaN</td>\n",
       "      <td>NaN</td>\n",
       "      <td>NaN</td>\n",
       "      <td>NaN</td>\n",
       "    </tr>\n",
       "    <tr>\n",
       "      <th>4</th>\n",
       "      <td>5001712</td>\n",
       "      <td>0</td>\n",
       "      <td>0</td>\n",
       "      <td>NaN</td>\n",
       "      <td>NaN</td>\n",
       "      <td>NaN</td>\n",
       "      <td>NaN</td>\n",
       "      <td>NaN</td>\n",
       "      <td>NaN</td>\n",
       "      <td>NaN</td>\n",
       "      <td>NaN</td>\n",
       "      <td>NaN</td>\n",
       "      <td>NaN</td>\n",
       "      <td>NaN</td>\n",
       "      <td>NaN</td>\n",
       "      <td>NaN</td>\n",
       "      <td>NaN</td>\n",
       "      <td>NaN</td>\n",
       "      <td>NaN</td>\n",
       "    </tr>\n",
       "  </tbody>\n",
       "</table>\n",
       "</div>"
      ],
      "text/plain": [
       "        ID  MONTHS_BALANCE  LABEL CODE_GENDER FLAG_OWN_CAR FLAG_OWN_REALTY  \\\n",
       "0  5001711               0      0         NaN          NaN             NaN   \n",
       "1  5001711              -1      1         NaN          NaN             NaN   \n",
       "2  5001711              -2      1         NaN          NaN             NaN   \n",
       "3  5001711              -3      1         NaN          NaN             NaN   \n",
       "4  5001712               0      0         NaN          NaN             NaN   \n",
       "\n",
       "   CNT_CHILDREN  AMT_INCOME_TOTAL NAME_INCOME_TYPE NAME_EDUCATION_TYPE  \\\n",
       "0           NaN               NaN              NaN                 NaN   \n",
       "1           NaN               NaN              NaN                 NaN   \n",
       "2           NaN               NaN              NaN                 NaN   \n",
       "3           NaN               NaN              NaN                 NaN   \n",
       "4           NaN               NaN              NaN                 NaN   \n",
       "\n",
       "  NAME_FAMILY_STATUS NAME_HOUSING_TYPE  DAYS_BIRTH  DAYS_EMPLOYED  FLAG_MOBIL  \\\n",
       "0                NaN               NaN         NaN            NaN         NaN   \n",
       "1                NaN               NaN         NaN            NaN         NaN   \n",
       "2                NaN               NaN         NaN            NaN         NaN   \n",
       "3                NaN               NaN         NaN            NaN         NaN   \n",
       "4                NaN               NaN         NaN            NaN         NaN   \n",
       "\n",
       "   FLAG_WORK_PHONE  FLAG_PHONE  FLAG_EMAIL  CNT_FAM_MEMBERS  \n",
       "0              NaN         NaN         NaN              NaN  \n",
       "1              NaN         NaN         NaN              NaN  \n",
       "2              NaN         NaN         NaN              NaN  \n",
       "3              NaN         NaN         NaN              NaN  \n",
       "4              NaN         NaN         NaN              NaN  "
      ]
     },
     "execution_count": 22,
     "metadata": {},
     "output_type": "execute_result"
    }
   ],
   "source": [
    "merged = pd.merge(credit_record, application, on='ID', how='left')\n",
    "merged.head()"
   ]
  },
  {
   "cell_type": "code",
   "execution_count": 23,
   "id": "63e951da-51a4-4000-8bb0-3d4465129a91",
   "metadata": {},
   "outputs": [
    {
     "name": "stdout",
     "output_type": "stream",
     "text": [
      "<class 'pandas.core.frame.DataFrame'>\n",
      "Int64Index: 1048575 entries, 0 to 1048574\n",
      "Data columns (total 19 columns):\n",
      " #   Column               Non-Null Count    Dtype  \n",
      "---  ------               --------------    -----  \n",
      " 0   ID                   1048575 non-null  int64  \n",
      " 1   MONTHS_BALANCE       1048575 non-null  int64  \n",
      " 2   LABEL                1048575 non-null  int32  \n",
      " 3   CODE_GENDER          777715 non-null   object \n",
      " 4   FLAG_OWN_CAR         777715 non-null   object \n",
      " 5   FLAG_OWN_REALTY      777715 non-null   object \n",
      " 6   CNT_CHILDREN         777715 non-null   float64\n",
      " 7   AMT_INCOME_TOTAL     777715 non-null   float64\n",
      " 8   NAME_INCOME_TYPE     777715 non-null   object \n",
      " 9   NAME_EDUCATION_TYPE  777715 non-null   object \n",
      " 10  NAME_FAMILY_STATUS   777715 non-null   object \n",
      " 11  NAME_HOUSING_TYPE    777715 non-null   object \n",
      " 12  DAYS_BIRTH           777715 non-null   float64\n",
      " 13  DAYS_EMPLOYED        777715 non-null   float64\n",
      " 14  FLAG_MOBIL           777715 non-null   float64\n",
      " 15  FLAG_WORK_PHONE      777715 non-null   float64\n",
      " 16  FLAG_PHONE           777715 non-null   float64\n",
      " 17  FLAG_EMAIL           777715 non-null   float64\n",
      " 18  CNT_FAM_MEMBERS      777715 non-null   float64\n",
      "dtypes: float64(9), int32(1), int64(2), object(7)\n",
      "memory usage: 156.0+ MB\n"
     ]
    }
   ],
   "source": [
    "merged.info()"
   ]
  },
  {
   "cell_type": "code",
   "execution_count": 24,
   "id": "4cfecce2-90a3-4d6f-b8ff-8af2f42753a4",
   "metadata": {},
   "outputs": [
    {
     "data": {
      "text/plain": [
       "ID                      0.000000\n",
       "MONTHS_BALANCE          0.000000\n",
       "LABEL                   0.000000\n",
       "CODE_GENDER            25.831247\n",
       "FLAG_OWN_CAR           25.831247\n",
       "FLAG_OWN_REALTY        25.831247\n",
       "CNT_CHILDREN           25.831247\n",
       "AMT_INCOME_TOTAL       25.831247\n",
       "NAME_INCOME_TYPE       25.831247\n",
       "NAME_EDUCATION_TYPE    25.831247\n",
       "NAME_FAMILY_STATUS     25.831247\n",
       "NAME_HOUSING_TYPE      25.831247\n",
       "DAYS_BIRTH             25.831247\n",
       "DAYS_EMPLOYED          25.831247\n",
       "FLAG_MOBIL             25.831247\n",
       "FLAG_WORK_PHONE        25.831247\n",
       "FLAG_PHONE             25.831247\n",
       "FLAG_EMAIL             25.831247\n",
       "CNT_FAM_MEMBERS        25.831247\n",
       "dtype: float64"
      ]
     },
     "execution_count": 24,
     "metadata": {},
     "output_type": "execute_result"
    }
   ],
   "source": [
    "merged.isnull().sum() * 100 /merged.shape[0]"
   ]
  },
  {
   "cell_type": "markdown",
   "id": "99365c3b-0854-4b68-b343-a9736bebe0ac",
   "metadata": {},
   "source": [
    "terdapat sekitar 26% missing value di beberapa feature, sehingga nanti akan di drop"
   ]
  },
  {
   "cell_type": "code",
   "execution_count": 25,
   "id": "9e3b4fb5-3bb1-423f-bef4-0c90ade93e28",
   "metadata": {},
   "outputs": [],
   "source": [
    "merged.dropna(inplace = True)"
   ]
  },
  {
   "cell_type": "code",
   "execution_count": 26,
   "id": "f6288fc8-169d-49b0-bd5c-e70d36277a13",
   "metadata": {},
   "outputs": [
    {
     "name": "stdout",
     "output_type": "stream",
     "text": [
      "<class 'pandas.core.frame.DataFrame'>\n",
      "Int64Index: 777715 entries, 92938 to 1048574\n",
      "Data columns (total 19 columns):\n",
      " #   Column               Non-Null Count   Dtype  \n",
      "---  ------               --------------   -----  \n",
      " 0   ID                   777715 non-null  int64  \n",
      " 1   MONTHS_BALANCE       777715 non-null  int64  \n",
      " 2   LABEL                777715 non-null  int32  \n",
      " 3   CODE_GENDER          777715 non-null  object \n",
      " 4   FLAG_OWN_CAR         777715 non-null  object \n",
      " 5   FLAG_OWN_REALTY      777715 non-null  object \n",
      " 6   CNT_CHILDREN         777715 non-null  float64\n",
      " 7   AMT_INCOME_TOTAL     777715 non-null  float64\n",
      " 8   NAME_INCOME_TYPE     777715 non-null  object \n",
      " 9   NAME_EDUCATION_TYPE  777715 non-null  object \n",
      " 10  NAME_FAMILY_STATUS   777715 non-null  object \n",
      " 11  NAME_HOUSING_TYPE    777715 non-null  object \n",
      " 12  DAYS_BIRTH           777715 non-null  float64\n",
      " 13  DAYS_EMPLOYED        777715 non-null  float64\n",
      " 14  FLAG_MOBIL           777715 non-null  float64\n",
      " 15  FLAG_WORK_PHONE      777715 non-null  float64\n",
      " 16  FLAG_PHONE           777715 non-null  float64\n",
      " 17  FLAG_EMAIL           777715 non-null  float64\n",
      " 18  CNT_FAM_MEMBERS      777715 non-null  float64\n",
      "dtypes: float64(9), int32(1), int64(2), object(7)\n",
      "memory usage: 115.7+ MB\n"
     ]
    }
   ],
   "source": [
    "merged.info()"
   ]
  },
  {
   "cell_type": "markdown",
   "id": "253c0a00-204d-4cd4-b935-91f56c9ebd6a",
   "metadata": {},
   "source": [
    "# EDA"
   ]
  },
  {
   "cell_type": "code",
   "execution_count": 27,
   "id": "9b97040a-f9ee-4871-bac6-fb79095bdc2d",
   "metadata": {},
   "outputs": [
    {
     "data": {
      "text/plain": [
       "Text(0, 0.5, 'Number of Defaulters')"
      ]
     },
     "execution_count": 27,
     "metadata": {},
     "output_type": "execute_result"
    },
    {
     "data": {
      "image/png": "[encoded data removed]",
      "text/plain": [
       "<Figure size 432x288 with 1 Axes>"
      ]
     },
     "metadata": {
      "needs_background": "light"
     },
     "output_type": "display_data"
    }
   ],
   "source": [
    "# gender vs label\n",
    "pd.crosstab(merged.CODE_GENDER,merged.LABEL).plot(kind='bar')\n",
    "plt.title('Gender vs Label')\n",
    "plt.xlabel('Gender')\n",
    "plt.xticks(rotation = 360)\n",
    "plt.ylabel('Number of Defaulters')"
   ]
  },
  {
   "cell_type": "markdown",
   "id": "785193bf-cff7-40ee-a740-7a6d401cd99e",
   "metadata": {},
   "source": [
    "Insight :\n",
    "1. Secara overall, jumlah good loan lebih banyak pada kedua gender\n",
    "2. Bad loan di dominasi oleh wanita"
   ]
  },
  {
   "cell_type": "code",
   "execution_count": 28,
   "id": "da2e78f4-4948-4e1d-aeaa-6c22fb4f9ce9",
   "metadata": {},
   "outputs": [
    {
     "data": {
      "text/plain": [
       "Text(0, 0.5, 'Number of Defaulters')"
      ]
     },
     "execution_count": 28,
     "metadata": {},
     "output_type": "execute_result"
    },
    {
     "data": {
      "image/png": "[encoded data removed]",
      "text/plain": [
       "<Figure size 432x288 with 1 Axes>"
      ]
     },
     "metadata": {
      "needs_background": "light"
     },
     "output_type": "display_data"
    }
   ],
   "source": [
    "# car owership vs label\n",
    "pd.crosstab(merged.FLAG_OWN_CAR,merged.LABEL).plot(kind='bar')\n",
    "plt.title('Car Ownership vs Label')\n",
    "plt.xlabel('Car Owner')\n",
    "plt.xticks(rotation = 360)\n",
    "plt.ylabel('Number of Defaulters')"
   ]
  },
  {
   "cell_type": "markdown",
   "id": "40b4571b-656f-4266-af41-d541dd27c1ea",
   "metadata": {},
   "source": [
    "INSIGHT:\n",
    "1. Secara overall, jumlah good load lebih banyak pada kedua kondisi\n",
    "2. Bad loan di dominasi oleh client yang tidak memiliki mobil"
   ]
  },
  {
   "cell_type": "code",
   "execution_count": 29,
   "id": "a28c1bf7-d954-409e-b936-7c11060b4bfa",
   "metadata": {},
   "outputs": [
    {
     "data": {
      "text/plain": [
       "Text(0, 0.5, 'Number of Defaulters')"
      ]
     },
     "execution_count": 29,
     "metadata": {},
     "output_type": "execute_result"
    },
    {
     "data": {
      "image/png": "[encoded data removed]",
      "text/plain": [
       "<Figure size 432x288 with 1 Axes>"
      ]
     },
     "metadata": {
      "needs_background": "light"
     },
     "output_type": "display_data"
    }
   ],
   "source": [
    "# Property Ownership vs Label\n",
    "pd.crosstab(merged.FLAG_OWN_REALTY,merged.LABEL).plot(kind='bar')\n",
    "plt.title('Property Ownership vs Label')\n",
    "plt.xlabel('Property Owner')\n",
    "plt.xticks(rotation = 360)\n",
    "plt.ylabel('Number of Defaulters')"
   ]
  },
  {
   "cell_type": "markdown",
   "id": "11f92200-ea98-4aa5-9ee1-e3384b089df7",
   "metadata": {},
   "source": [
    "Insight:\n",
    "1. Secara overall, jumlah good loan lebih banyak daripada Bad Loan\n",
    "2. Bad Loan di dominasi oleh client yang memiliki property"
   ]
  },
  {
   "cell_type": "code",
   "execution_count": 30,
   "id": "f927852e-3138-4d02-b027-2cce1337bbb8",
   "metadata": {},
   "outputs": [
    {
     "data": {
      "text/plain": [
       "Text(0, 0.5, 'Number of Defaulters')"
      ]
     },
     "execution_count": 30,
     "metadata": {},
     "output_type": "execute_result"
    },
    {
     "data": {
      "image/png": "[encoded data removed]",
      "text/plain": [
       "<Figure size 864x432 with 1 Axes>"
      ]
     },
     "metadata": {
      "needs_background": "light"
     },
     "output_type": "display_data"
    }
   ],
   "source": [
    "#Children vs Label\n",
    "pd.crosstab(merged.CNT_CHILDREN, merged.LABEL).plot(kind='bar', figsize=(12,6))\n",
    "plt.title('Children Vs Label')\n",
    "plt.xlabel('Number of Children')\n",
    "plt.xticks(rotation = 360)\n",
    "plt.ylabel('Number of Defaulters')"
   ]
  },
  {
   "cell_type": "markdown",
   "id": "a564c717-56cb-4bba-9508-ab744ed1b003",
   "metadata": {},
   "source": [
    "Insight:\n",
    "\n",
    "1. Secara overall, jumlah good loan lebih banyak daripada Bad Loan\n",
    "2. Bad Loan di dominasi oleh client yang tidak memiliki anak"
   ]
  },
  {
   "cell_type": "code",
   "execution_count": 31,
   "id": "33543ab9-0ef1-46ae-bb74-f9ac936b2bd5",
   "metadata": {},
   "outputs": [
    {
     "data": {
      "text/plain": [
       "Text(0.5, 0, 'Number of Defaulters')"
      ]
     },
     "execution_count": 31,
     "metadata": {},
     "output_type": "execute_result"
    },
    {
     "data": {
      "image/png": "[encoded data removed]",
      "text/plain": [
       "<Figure size 864x432 with 1 Axes>"
      ]
     },
     "metadata": {
      "needs_background": "light"
     },
     "output_type": "display_data"
    }
   ],
   "source": [
    "# Income Type vs Label\n",
    "pd.crosstab(merged.NAME_INCOME_TYPE, merged.LABEL).plot(kind='barh', figsize=(12,6))\n",
    "plt.title('Income Type vs Label')\n",
    "plt.ylabel('Income Type')\n",
    "plt.xticks(rotation = 45)\n",
    "plt.xlabel('Number of Defaulters')"
   ]
  },
  {
   "cell_type": "markdown",
   "id": "c3a2f08b-9bc4-4d98-bef6-0a1e8a6b961d",
   "metadata": {},
   "source": [
    "Insight:\n",
    "\n",
    "1. Secara overall, jumlah good loan lebih banyak daripada Bad Loan\n",
    "2. Bad Loan di dominasi oleh client yang ber profesi sebagai commercial associate\n",
    "3. Student yang paling jarang mengajukan loan"
   ]
  },
  {
   "cell_type": "code",
   "execution_count": 32,
   "id": "70a0e606-2e82-466f-beb3-e5be49bdaf25",
   "metadata": {},
   "outputs": [
    {
     "data": {
      "text/plain": [
       "Text(0, 0.5, 'Number of Defaulters')"
      ]
     },
     "execution_count": 32,
     "metadata": {},
     "output_type": "execute_result"
    },
    {
     "data": {
      "image/png": "[encoded data removed]",
      "text/plain": [
       "<Figure size 864x432 with 1 Axes>"
      ]
     },
     "metadata": {
      "needs_background": "light"
     },
     "output_type": "display_data"
    }
   ],
   "source": [
    "# Education vs Label\n",
    "pd.crosstab(merged.NAME_EDUCATION_TYPE, merged.LABEL).plot(kind='bar', figsize=(12,6))\n",
    "plt.title('Education Type vs Label')\n",
    "plt.xlabel('Education')\n",
    "plt.xticks(rotation = 45)\n",
    "plt.ylabel('Number of Defaulters')"
   ]
  },
  {
   "cell_type": "markdown",
   "id": "33250659-b615-4ee5-a13a-c3161a3e39da",
   "metadata": {},
   "source": [
    "Insight:\n",
    "\n",
    "1. Secara overall, jumlah good loan lebih banyak daripada Bad Loan\n",
    "2. Bad Loan di dominasi oleh client yang memiliki pendidikan secondary/secondary special\n",
    "3. Client dengan pendidikan academic degree yang paling jarang mengajukan loan"
   ]
  },
  {
   "cell_type": "code",
   "execution_count": 33,
   "id": "4e9839de-e634-4f8a-8d13-0c3487b0992a",
   "metadata": {},
   "outputs": [
    {
     "data": {
      "text/plain": [
       "Text(0, 0.5, 'Number of Defaulters')"
      ]
     },
     "execution_count": 33,
     "metadata": {},
     "output_type": "execute_result"
    },
    {
     "data": {
      "image/png": "[encoded data removed]",
      "text/plain": [
       "<Figure size 864x432 with 1 Axes>"
      ]
     },
     "metadata": {
      "needs_background": "light"
     },
     "output_type": "display_data"
    }
   ],
   "source": [
    "# Family status vs label\n",
    "pd.crosstab(merged.NAME_FAMILY_STATUS, merged.LABEL).plot(kind='bar', figsize=(12,6))\n",
    "plt.title('Family Status versus Label')\n",
    "plt.xlabel('Family Status')\n",
    "plt.xticks(rotation = 45)\n",
    "plt.ylabel('Number of Defaulters')"
   ]
  },
  {
   "cell_type": "markdown",
   "id": "3121770d-51d0-4196-8c53-9795bbafc0ce",
   "metadata": {},
   "source": [
    "Insight:\n",
    "\n",
    "1. Secara overall, jumlah good loan lebih banyak daripada Bad Loan\n",
    "2. Bad Loan di dominasi oleh client dengan status married\n",
    "3. Client dengan status widow paling jarang mengajukan loan"
   ]
  },
  {
   "cell_type": "code",
   "execution_count": 34,
   "id": "4e6ea86a-cc8e-4ef9-9dea-4d89d16f32ea",
   "metadata": {},
   "outputs": [
    {
     "data": {
      "text/plain": [
       "Text(0, 0.5, 'Number of Defaulters')"
      ]
     },
     "execution_count": 34,
     "metadata": {},
     "output_type": "execute_result"
    },
    {
     "data": {
      "image/png": "[encoded data removed]",
      "text/plain": [
       "<Figure size 864x432 with 1 Axes>"
      ]
     },
     "metadata": {
      "needs_background": "light"
     },
     "output_type": "display_data"
    }
   ],
   "source": [
    "# Housing Type vs Label\n",
    "pd.crosstab(merged.NAME_HOUSING_TYPE, merged.LABEL).plot(kind='bar', figsize=(12,6))\n",
    "plt.title('Housing Type versus Label')\n",
    "plt.xlabel('Housing Type')\n",
    "plt.xticks(rotation = 45)\n",
    "plt.ylabel('Number of Defaulters')"
   ]
  },
  {
   "cell_type": "markdown",
   "id": "c264549e-d3d2-46d0-865c-df81d078d22d",
   "metadata": {},
   "source": [
    "Insight:\n",
    "\n",
    "1. Secara overall, jumlah good loan lebih banyak daripada Bad Loan\n",
    "2. Bad Loan di dominasi oleh client yang memiliki house/apartment\n",
    "3. Client co-op apartment paling jarang mengajukan loan"
   ]
  },
  {
   "cell_type": "code",
   "execution_count": 35,
   "id": "f706c020-ef92-4715-aab7-6262bf6f2dc7",
   "metadata": {},
   "outputs": [
    {
     "data": {
      "text/plain": [
       "Text(0, 0.5, 'Number of Defaulters')"
      ]
     },
     "execution_count": 35,
     "metadata": {},
     "output_type": "execute_result"
    },
    {
     "data": {
      "image/png": "[encoded data removed]",
      "text/plain": [
       "<Figure size 864x432 with 1 Axes>"
      ]
     },
     "metadata": {
      "needs_background": "light"
     },
     "output_type": "display_data"
    }
   ],
   "source": [
    "# Number of Family member vs Label\n",
    "pd.crosstab(merged.CNT_FAM_MEMBERS,merged.LABEL).plot(kind='bar', figsize=(12,6))\n",
    "\n",
    "plt.title('Number of Family Member vs Label')\n",
    "plt.xlabel('Number of Family Members')\n",
    "plt.xticks(rotation = 45)\n",
    "plt.ylabel('Number of Defaulters')"
   ]
  },
  {
   "cell_type": "code",
   "execution_count": 36,
   "id": "b4d8af3a-960a-4abc-8e9f-75742928909e",
   "metadata": {},
   "outputs": [
    {
     "data": {
      "text/html": [
       "<div>\n",
       "<style scoped>\n",
       "    .dataframe tbody tr th:only-of-type {\n",
       "        vertical-align: middle;\n",
       "    }\n",
       "\n",
       "    .dataframe tbody tr th {\n",
       "        vertical-align: top;\n",
       "    }\n",
       "\n",
       "    .dataframe thead th {\n",
       "        text-align: right;\n",
       "    }\n",
       "</style>\n",
       "<table border=\"1\" class=\"dataframe\">\n",
       "  <thead>\n",
       "    <tr style=\"text-align: right;\">\n",
       "      <th>LABEL</th>\n",
       "      <th>0</th>\n",
       "      <th>1</th>\n",
       "    </tr>\n",
       "    <tr>\n",
       "      <th>CNT_FAM_MEMBERS</th>\n",
       "      <th></th>\n",
       "      <th></th>\n",
       "    </tr>\n",
       "  </thead>\n",
       "  <tbody>\n",
       "    <tr>\n",
       "      <th>1.0</th>\n",
       "      <td>85874</td>\n",
       "      <td>55603</td>\n",
       "    </tr>\n",
       "    <tr>\n",
       "      <th>2.0</th>\n",
       "      <td>260269</td>\n",
       "      <td>163454</td>\n",
       "    </tr>\n",
       "    <tr>\n",
       "      <th>3.0</th>\n",
       "      <td>81900</td>\n",
       "      <td>52994</td>\n",
       "    </tr>\n",
       "    <tr>\n",
       "      <th>4.0</th>\n",
       "      <td>40843</td>\n",
       "      <td>26147</td>\n",
       "    </tr>\n",
       "    <tr>\n",
       "      <th>5.0</th>\n",
       "      <td>5626</td>\n",
       "      <td>3373</td>\n",
       "    </tr>\n",
       "    <tr>\n",
       "      <th>6.0</th>\n",
       "      <td>712</td>\n",
       "      <td>484</td>\n",
       "    </tr>\n",
       "    <tr>\n",
       "      <th>7.0</th>\n",
       "      <td>216</td>\n",
       "      <td>57</td>\n",
       "    </tr>\n",
       "    <tr>\n",
       "      <th>9.0</th>\n",
       "      <td>22</td>\n",
       "      <td>24</td>\n",
       "    </tr>\n",
       "    <tr>\n",
       "      <th>15.0</th>\n",
       "      <td>24</td>\n",
       "      <td>87</td>\n",
       "    </tr>\n",
       "    <tr>\n",
       "      <th>20.0</th>\n",
       "      <td>0</td>\n",
       "      <td>6</td>\n",
       "    </tr>\n",
       "  </tbody>\n",
       "</table>\n",
       "</div>"
      ],
      "text/plain": [
       "LABEL                 0       1\n",
       "CNT_FAM_MEMBERS                \n",
       "1.0               85874   55603\n",
       "2.0              260269  163454\n",
       "3.0               81900   52994\n",
       "4.0               40843   26147\n",
       "5.0                5626    3373\n",
       "6.0                 712     484\n",
       "7.0                 216      57\n",
       "9.0                  22      24\n",
       "15.0                 24      87\n",
       "20.0                  0       6"
      ]
     },
     "execution_count": 36,
     "metadata": {},
     "output_type": "execute_result"
    }
   ],
   "source": [
    "pd.crosstab(merged.CNT_FAM_MEMBERS, merged.LABEL)"
   ]
  },
  {
   "cell_type": "markdown",
   "id": "280f9082-d210-431f-99b9-719eeeddcc64",
   "metadata": {},
   "source": [
    "Insight:\n",
    "\n",
    "1. Secara overall, jumlah good loan lebih banyak daripada Bad Loan\n",
    "2. Bad Loan di dominasi oleh client yang family member berjumlah 2"
   ]
  },
  {
   "cell_type": "markdown",
   "id": "867da34f-f83e-4f80-8e0b-84bda7be06ed",
   "metadata": {},
   "source": [
    "# Feature Engineering"
   ]
  },
  {
   "cell_type": "markdown",
   "id": "2deac25f-dea6-4a7d-a312-0c0726ab39e4",
   "metadata": {},
   "source": [
    "## Convert Days Birth to Age"
   ]
  },
  {
   "cell_type": "code",
   "execution_count": 37,
   "id": "74f7fac2-0df7-4dd8-b97a-ca0445a8817d",
   "metadata": {},
   "outputs": [],
   "source": [
    "# mengkonversi DAYS_BIRTH menjadi AGE agar lebih mudah dipahami\n",
    "merged['AGE'] = np.ceil(pd.to_timedelta(merged['DAYS_BIRTH'], unit='D').dt.days / -365.25)"
   ]
  },
  {
   "cell_type": "code",
   "execution_count": 38,
   "id": "5c36739b-0d84-4b34-a0c3-40b5570e731f",
   "metadata": {},
   "outputs": [
    {
     "data": {
      "text/plain": [
       "92938      33.0\n",
       "92939      33.0\n",
       "92940      33.0\n",
       "92941      33.0\n",
       "92942      33.0\n",
       "           ... \n",
       "1048570    54.0\n",
       "1048571    54.0\n",
       "1048572    54.0\n",
       "1048573    54.0\n",
       "1048574    54.0\n",
       "Name: AGE, Length: 777715, dtype: float64"
      ]
     },
     "execution_count": 38,
     "metadata": {},
     "output_type": "execute_result"
    }
   ],
   "source": [
    "merged['AGE']"
   ]
  },
  {
   "cell_type": "code",
   "execution_count": 39,
   "id": "683fb3a8-6490-49ba-bbd1-1f1944b0f8c1",
   "metadata": {},
   "outputs": [],
   "source": [
    "merged.drop('DAYS_BIRTH', axis = 1, inplace = True)"
   ]
  },
  {
   "cell_type": "markdown",
   "id": "60f94e94-a788-4c32-8937-6798b1b5b8db",
   "metadata": {},
   "source": [
    "## Convert Days Employed to Years Employed"
   ]
  },
  {
   "cell_type": "code",
   "execution_count": 40,
   "id": "c3c4ca18-387d-4b1a-bf76-9a98bc7a2146",
   "metadata": {},
   "outputs": [],
   "source": [
    "# mengkonversi DAYS_EMPLOYED menjadi YEARS_EMPLOYED agar lebih mudah dipahami\n",
    "merged.loc[(merged['DAYS_EMPLOYED'] > 0), 'DAYS_EMPLOYED'] = 0\n",
    "merged['YEARS_EMPLOYED'] = np.ceil(pd.to_timedelta(merged['DAYS_EMPLOYED'], unit='D').dt.days / -365.25)"
   ]
  },
  {
   "cell_type": "code",
   "execution_count": 41,
   "id": "fcd53bb6-dcc9-4ad9-af86-45a7e615c27c",
   "metadata": {},
   "outputs": [
    {
     "data": {
      "text/plain": [
       "92938      13.0\n",
       "92939      13.0\n",
       "92940      13.0\n",
       "92941      13.0\n",
       "92942      13.0\n",
       "           ... \n",
       "1048570     6.0\n",
       "1048571     6.0\n",
       "1048572     6.0\n",
       "1048573     6.0\n",
       "1048574     6.0\n",
       "Name: YEARS_EMPLOYED, Length: 777715, dtype: float64"
      ]
     },
     "execution_count": 41,
     "metadata": {},
     "output_type": "execute_result"
    }
   ],
   "source": [
    "merged['YEARS_EMPLOYED']"
   ]
  },
  {
   "cell_type": "code",
   "execution_count": 42,
   "id": "e3834e9a-799f-4d3c-9122-6f9ccd591f4f",
   "metadata": {},
   "outputs": [],
   "source": [
    "merged.drop(['DAYS_EMPLOYED', 'MONTHS_BALANCE', 'FLAG_MOBIL'], axis = 1, inplace = True)"
   ]
  },
  {
   "cell_type": "markdown",
   "id": "6733a6fe-69cf-4f62-91cd-1f70d0cacfc0",
   "metadata": {},
   "source": [
    "## Final Column"
   ]
  },
  {
   "cell_type": "code",
   "execution_count": 43,
   "id": "3fe127f9-3da8-418b-9277-a0a6cfa814de",
   "metadata": {},
   "outputs": [
    {
     "data": {
      "text/plain": [
       "Index(['ID', 'LABEL', 'CODE_GENDER', 'FLAG_OWN_CAR', 'FLAG_OWN_REALTY',\n",
       "       'CNT_CHILDREN', 'AMT_INCOME_TOTAL', 'NAME_INCOME_TYPE',\n",
       "       'NAME_EDUCATION_TYPE', 'NAME_FAMILY_STATUS', 'NAME_HOUSING_TYPE',\n",
       "       'FLAG_WORK_PHONE', 'FLAG_PHONE', 'FLAG_EMAIL', 'CNT_FAM_MEMBERS', 'AGE',\n",
       "       'YEARS_EMPLOYED'],\n",
       "      dtype='object')"
      ]
     },
     "execution_count": 43,
     "metadata": {},
     "output_type": "execute_result"
    }
   ],
   "source": [
    "merged.columns"
   ]
  },
  {
   "cell_type": "code",
   "execution_count": 44,
   "id": "2cb636f6-7b3a-48b4-9c21-a067c6e4c08d",
   "metadata": {},
   "outputs": [
    {
     "name": "stdout",
     "output_type": "stream",
     "text": [
      "<class 'pandas.core.frame.DataFrame'>\n",
      "Int64Index: 777715 entries, 92938 to 1048574\n",
      "Data columns (total 17 columns):\n",
      " #   Column               Non-Null Count   Dtype  \n",
      "---  ------               --------------   -----  \n",
      " 0   ID                   777715 non-null  int64  \n",
      " 1   LABEL                777715 non-null  int32  \n",
      " 2   CODE_GENDER          777715 non-null  object \n",
      " 3   FLAG_OWN_CAR         777715 non-null  object \n",
      " 4   FLAG_OWN_REALTY      777715 non-null  object \n",
      " 5   CNT_CHILDREN         777715 non-null  float64\n",
      " 6   AMT_INCOME_TOTAL     777715 non-null  float64\n",
      " 7   NAME_INCOME_TYPE     777715 non-null  object \n",
      " 8   NAME_EDUCATION_TYPE  777715 non-null  object \n",
      " 9   NAME_FAMILY_STATUS   777715 non-null  object \n",
      " 10  NAME_HOUSING_TYPE    777715 non-null  object \n",
      " 11  FLAG_WORK_PHONE      777715 non-null  float64\n",
      " 12  FLAG_PHONE           777715 non-null  float64\n",
      " 13  FLAG_EMAIL           777715 non-null  float64\n",
      " 14  CNT_FAM_MEMBERS      777715 non-null  float64\n",
      " 15  AGE                  777715 non-null  float64\n",
      " 16  YEARS_EMPLOYED       777715 non-null  float64\n",
      "dtypes: float64(8), int32(1), int64(1), object(7)\n",
      "memory usage: 103.8+ MB\n"
     ]
    }
   ],
   "source": [
    "merged.info()"
   ]
  },
  {
   "cell_type": "markdown",
   "id": "ad04376e-3ebe-454c-8659-1220afe7ebed",
   "metadata": {},
   "source": [
    "## Feature Encoding for categorical data"
   ]
  },
  {
   "cell_type": "code",
   "execution_count": 45,
   "id": "9b52b102-e745-48cb-bd0f-ae3e395b4d87",
   "metadata": {},
   "outputs": [],
   "source": [
    "merged2 = merged.copy()"
   ]
  },
  {
   "cell_type": "code",
   "execution_count": 46,
   "id": "7df785e0-a7a9-4c2c-99a4-49a4f6c0c85f",
   "metadata": {},
   "outputs": [],
   "source": [
    "#Only run this code 1 time\n",
    "cats = [col for col in merged2.select_dtypes(include='object').columns.tolist()]\n",
    "onehot = pd.get_dummies(merged2[cats], drop_first=True)"
   ]
  },
  {
   "cell_type": "code",
   "execution_count": 47,
   "id": "7d729210-2b6e-4952-b799-82362f28e93b",
   "metadata": {},
   "outputs": [
    {
     "data": {
      "text/html": [
       "<div>\n",
       "<style scoped>\n",
       "    .dataframe tbody tr th:only-of-type {\n",
       "        vertical-align: middle;\n",
       "    }\n",
       "\n",
       "    .dataframe tbody tr th {\n",
       "        vertical-align: top;\n",
       "    }\n",
       "\n",
       "    .dataframe thead th {\n",
       "        text-align: right;\n",
       "    }\n",
       "</style>\n",
       "<table border=\"1\" class=\"dataframe\">\n",
       "  <thead>\n",
       "    <tr style=\"text-align: right;\">\n",
       "      <th></th>\n",
       "      <th>CODE_GENDER_M</th>\n",
       "      <th>FLAG_OWN_CAR_Y</th>\n",
       "      <th>FLAG_OWN_REALTY_Y</th>\n",
       "      <th>NAME_INCOME_TYPE_Pensioner</th>\n",
       "      <th>NAME_INCOME_TYPE_State servant</th>\n",
       "      <th>NAME_INCOME_TYPE_Student</th>\n",
       "      <th>NAME_INCOME_TYPE_Working</th>\n",
       "      <th>NAME_EDUCATION_TYPE_Higher education</th>\n",
       "      <th>NAME_EDUCATION_TYPE_Incomplete higher</th>\n",
       "      <th>NAME_EDUCATION_TYPE_Lower secondary</th>\n",
       "      <th>NAME_EDUCATION_TYPE_Secondary / secondary special</th>\n",
       "      <th>NAME_FAMILY_STATUS_Married</th>\n",
       "      <th>NAME_FAMILY_STATUS_Separated</th>\n",
       "      <th>NAME_FAMILY_STATUS_Single / not married</th>\n",
       "      <th>NAME_FAMILY_STATUS_Widow</th>\n",
       "      <th>NAME_HOUSING_TYPE_House / apartment</th>\n",
       "      <th>NAME_HOUSING_TYPE_Municipal apartment</th>\n",
       "      <th>NAME_HOUSING_TYPE_Office apartment</th>\n",
       "      <th>NAME_HOUSING_TYPE_Rented apartment</th>\n",
       "      <th>NAME_HOUSING_TYPE_With parents</th>\n",
       "    </tr>\n",
       "  </thead>\n",
       "  <tbody>\n",
       "    <tr>\n",
       "      <th>92938</th>\n",
       "      <td>1</td>\n",
       "      <td>1</td>\n",
       "      <td>1</td>\n",
       "      <td>0</td>\n",
       "      <td>0</td>\n",
       "      <td>0</td>\n",
       "      <td>1</td>\n",
       "      <td>1</td>\n",
       "      <td>0</td>\n",
       "      <td>0</td>\n",
       "      <td>0</td>\n",
       "      <td>0</td>\n",
       "      <td>0</td>\n",
       "      <td>0</td>\n",
       "      <td>0</td>\n",
       "      <td>0</td>\n",
       "      <td>0</td>\n",
       "      <td>0</td>\n",
       "      <td>1</td>\n",
       "      <td>0</td>\n",
       "    </tr>\n",
       "    <tr>\n",
       "      <th>92939</th>\n",
       "      <td>1</td>\n",
       "      <td>1</td>\n",
       "      <td>1</td>\n",
       "      <td>0</td>\n",
       "      <td>0</td>\n",
       "      <td>0</td>\n",
       "      <td>1</td>\n",
       "      <td>1</td>\n",
       "      <td>0</td>\n",
       "      <td>0</td>\n",
       "      <td>0</td>\n",
       "      <td>0</td>\n",
       "      <td>0</td>\n",
       "      <td>0</td>\n",
       "      <td>0</td>\n",
       "      <td>0</td>\n",
       "      <td>0</td>\n",
       "      <td>0</td>\n",
       "      <td>1</td>\n",
       "      <td>0</td>\n",
       "    </tr>\n",
       "    <tr>\n",
       "      <th>92940</th>\n",
       "      <td>1</td>\n",
       "      <td>1</td>\n",
       "      <td>1</td>\n",
       "      <td>0</td>\n",
       "      <td>0</td>\n",
       "      <td>0</td>\n",
       "      <td>1</td>\n",
       "      <td>1</td>\n",
       "      <td>0</td>\n",
       "      <td>0</td>\n",
       "      <td>0</td>\n",
       "      <td>0</td>\n",
       "      <td>0</td>\n",
       "      <td>0</td>\n",
       "      <td>0</td>\n",
       "      <td>0</td>\n",
       "      <td>0</td>\n",
       "      <td>0</td>\n",
       "      <td>1</td>\n",
       "      <td>0</td>\n",
       "    </tr>\n",
       "    <tr>\n",
       "      <th>92941</th>\n",
       "      <td>1</td>\n",
       "      <td>1</td>\n",
       "      <td>1</td>\n",
       "      <td>0</td>\n",
       "      <td>0</td>\n",
       "      <td>0</td>\n",
       "      <td>1</td>\n",
       "      <td>1</td>\n",
       "      <td>0</td>\n",
       "      <td>0</td>\n",
       "      <td>0</td>\n",
       "      <td>0</td>\n",
       "      <td>0</td>\n",
       "      <td>0</td>\n",
       "      <td>0</td>\n",
       "      <td>0</td>\n",
       "      <td>0</td>\n",
       "      <td>0</td>\n",
       "      <td>1</td>\n",
       "      <td>0</td>\n",
       "    </tr>\n",
       "    <tr>\n",
       "      <th>92942</th>\n",
       "      <td>1</td>\n",
       "      <td>1</td>\n",
       "      <td>1</td>\n",
       "      <td>0</td>\n",
       "      <td>0</td>\n",
       "      <td>0</td>\n",
       "      <td>1</td>\n",
       "      <td>1</td>\n",
       "      <td>0</td>\n",
       "      <td>0</td>\n",
       "      <td>0</td>\n",
       "      <td>0</td>\n",
       "      <td>0</td>\n",
       "      <td>0</td>\n",
       "      <td>0</td>\n",
       "      <td>0</td>\n",
       "      <td>0</td>\n",
       "      <td>0</td>\n",
       "      <td>1</td>\n",
       "      <td>0</td>\n",
       "    </tr>\n",
       "  </tbody>\n",
       "</table>\n",
       "</div>"
      ],
      "text/plain": [
       "       CODE_GENDER_M  FLAG_OWN_CAR_Y  FLAG_OWN_REALTY_Y  \\\n",
       "92938              1               1                  1   \n",
       "92939              1               1                  1   \n",
       "92940              1               1                  1   \n",
       "92941              1               1                  1   \n",
       "92942              1               1                  1   \n",
       "\n",
       "       NAME_INCOME_TYPE_Pensioner  NAME_INCOME_TYPE_State servant  \\\n",
       "92938                           0                               0   \n",
       "92939                           0                               0   \n",
       "92940                           0                               0   \n",
       "92941                           0                               0   \n",
       "92942                           0                               0   \n",
       "\n",
       "       NAME_INCOME_TYPE_Student  NAME_INCOME_TYPE_Working  \\\n",
       "92938                         0                         1   \n",
       "92939                         0                         1   \n",
       "92940                         0                         1   \n",
       "92941                         0                         1   \n",
       "92942                         0                         1   \n",
       "\n",
       "       NAME_EDUCATION_TYPE_Higher education  \\\n",
       "92938                                     1   \n",
       "92939                                     1   \n",
       "92940                                     1   \n",
       "92941                                     1   \n",
       "92942                                     1   \n",
       "\n",
       "       NAME_EDUCATION_TYPE_Incomplete higher  \\\n",
       "92938                                      0   \n",
       "92939                                      0   \n",
       "92940                                      0   \n",
       "92941                                      0   \n",
       "92942                                      0   \n",
       "\n",
       "       NAME_EDUCATION_TYPE_Lower secondary  \\\n",
       "92938                                    0   \n",
       "92939                                    0   \n",
       "92940                                    0   \n",
       "92941                                    0   \n",
       "92942                                    0   \n",
       "\n",
       "       NAME_EDUCATION_TYPE_Secondary / secondary special  \\\n",
       "92938                                                  0   \n",
       "92939                                                  0   \n",
       "92940                                                  0   \n",
       "92941                                                  0   \n",
       "92942                                                  0   \n",
       "\n",
       "       NAME_FAMILY_STATUS_Married  NAME_FAMILY_STATUS_Separated  \\\n",
       "92938                           0                             0   \n",
       "92939                           0                             0   \n",
       "92940                           0                             0   \n",
       "92941                           0                             0   \n",
       "92942                           0                             0   \n",
       "\n",
       "       NAME_FAMILY_STATUS_Single / not married  NAME_FAMILY_STATUS_Widow  \\\n",
       "92938                                        0                         0   \n",
       "92939                                        0                         0   \n",
       "92940                                        0                         0   \n",
       "92941                                        0                         0   \n",
       "92942                                        0                         0   \n",
       "\n",
       "       NAME_HOUSING_TYPE_House / apartment  \\\n",
       "92938                                    0   \n",
       "92939                                    0   \n",
       "92940                                    0   \n",
       "92941                                    0   \n",
       "92942                                    0   \n",
       "\n",
       "       NAME_HOUSING_TYPE_Municipal apartment  \\\n",
       "92938                                      0   \n",
       "92939                                      0   \n",
       "92940                                      0   \n",
       "92941                                      0   \n",
       "92942                                      0   \n",
       "\n",
       "       NAME_HOUSING_TYPE_Office apartment  NAME_HOUSING_TYPE_Rented apartment  \\\n",
       "92938                                   0                                   1   \n",
       "92939                                   0                                   1   \n",
       "92940                                   0                                   1   \n",
       "92941                                   0                                   1   \n",
       "92942                                   0                                   1   \n",
       "\n",
       "       NAME_HOUSING_TYPE_With parents  \n",
       "92938                               0  \n",
       "92939                               0  \n",
       "92940                               0  \n",
       "92941                               0  \n",
       "92942                               0  "
      ]
     },
     "execution_count": 47,
     "metadata": {},
     "output_type": "execute_result"
    }
   ],
   "source": [
    "onehot.head()"
   ]
  },
  {
   "cell_type": "code",
   "execution_count": 48,
   "id": "45c21b94-ea0b-4099-80c5-4f34cf56c6b9",
   "metadata": {},
   "outputs": [],
   "source": [
    "# Removing original columns\n",
    "merged2.drop(['CODE_GENDER','FLAG_OWN_CAR','FLAG_OWN_REALTY','NAME_INCOME_TYPE','NAME_EDUCATION_TYPE','NAME_FAMILY_STATUS','NAME_HOUSING_TYPE'], axis=1, inplace=True)"
   ]
  },
  {
   "cell_type": "code",
   "execution_count": 49,
   "id": "cf8461a9-585e-4206-8e31-aa142ee9bd77",
   "metadata": {},
   "outputs": [],
   "source": [
    "# Joining the DataFrames\n",
    "merged2 = merged2.join(onehot)"
   ]
  },
  {
   "cell_type": "code",
   "execution_count": 50,
   "id": "608d633e-71aa-43d7-8625-f898133edf9c",
   "metadata": {},
   "outputs": [
    {
     "name": "stdout",
     "output_type": "stream",
     "text": [
      "<class 'pandas.core.frame.DataFrame'>\n",
      "Int64Index: 777715 entries, 92938 to 1048574\n",
      "Data columns (total 30 columns):\n",
      " #   Column                                             Non-Null Count   Dtype  \n",
      "---  ------                                             --------------   -----  \n",
      " 0   ID                                                 777715 non-null  int64  \n",
      " 1   LABEL                                              777715 non-null  int32  \n",
      " 2   CNT_CHILDREN                                       777715 non-null  float64\n",
      " 3   AMT_INCOME_TOTAL                                   777715 non-null  float64\n",
      " 4   FLAG_WORK_PHONE                                    777715 non-null  float64\n",
      " 5   FLAG_PHONE                                         777715 non-null  float64\n",
      " 6   FLAG_EMAIL                                         777715 non-null  float64\n",
      " 7   CNT_FAM_MEMBERS                                    777715 non-null  float64\n",
      " 8   AGE                                                777715 non-null  float64\n",
      " 9   YEARS_EMPLOYED                                     777715 non-null  float64\n",
      " 10  CODE_GENDER_M                                      777715 non-null  uint8  \n",
      " 11  FLAG_OWN_CAR_Y                                     777715 non-null  uint8  \n",
      " 12  FLAG_OWN_REALTY_Y                                  777715 non-null  uint8  \n",
      " 13  NAME_INCOME_TYPE_Pensioner                         777715 non-null  uint8  \n",
      " 14  NAME_INCOME_TYPE_State servant                     777715 non-null  uint8  \n",
      " 15  NAME_INCOME_TYPE_Student                           777715 non-null  uint8  \n",
      " 16  NAME_INCOME_TYPE_Working                           777715 non-null  uint8  \n",
      " 17  NAME_EDUCATION_TYPE_Higher education               777715 non-null  uint8  \n",
      " 18  NAME_EDUCATION_TYPE_Incomplete higher              777715 non-null  uint8  \n",
      " 19  NAME_EDUCATION_TYPE_Lower secondary                777715 non-null  uint8  \n",
      " 20  NAME_EDUCATION_TYPE_Secondary / secondary special  777715 non-null  uint8  \n",
      " 21  NAME_FAMILY_STATUS_Married                         777715 non-null  uint8  \n",
      " 22  NAME_FAMILY_STATUS_Separated                       777715 non-null  uint8  \n",
      " 23  NAME_FAMILY_STATUS_Single / not married            777715 non-null  uint8  \n",
      " 24  NAME_FAMILY_STATUS_Widow                           777715 non-null  uint8  \n",
      " 25  NAME_HOUSING_TYPE_House / apartment                777715 non-null  uint8  \n",
      " 26  NAME_HOUSING_TYPE_Municipal apartment              777715 non-null  uint8  \n",
      " 27  NAME_HOUSING_TYPE_Office apartment                 777715 non-null  uint8  \n",
      " 28  NAME_HOUSING_TYPE_Rented apartment                 777715 non-null  uint8  \n",
      " 29  NAME_HOUSING_TYPE_With parents                     777715 non-null  uint8  \n",
      "dtypes: float64(8), int32(1), int64(1), uint8(20)\n",
      "memory usage: 93.3 MB\n"
     ]
    }
   ],
   "source": [
    "merged2.info()"
   ]
  },
  {
   "cell_type": "markdown",
   "id": "bb4b71e4-4040-4b45-9847-5450da207bab",
   "metadata": {},
   "source": [
    "## Feature standardization for numerical data"
   ]
  },
  {
   "cell_type": "code",
   "execution_count": 51,
   "id": "472050ce-6470-4930-a760-6139bee8e2f6",
   "metadata": {},
   "outputs": [],
   "source": [
    "from sklearn.preprocessing import StandardScaler\n",
    "merged2[['CNT_CHILDREN','AMT_INCOME_TOTAL','AGE','YEARS_EMPLOYED','CNT_FAM_MEMBERS']] = pd.DataFrame(StandardScaler().fit_transform(merged2[['CNT_CHILDREN','AMT_INCOME_TOTAL','AGE','YEARS_EMPLOYED','CNT_FAM_MEMBERS']]), index=merged2.index, columns=['CNT_CHILDREN','AMT_INCOME_TOTAL','AGE','YEARS_EMPLOYED','CNT_FAM_MEMBERS'])                                                                                       "
   ]
  },
  {
   "cell_type": "code",
   "execution_count": 52,
   "id": "f78d7266-ca4d-4578-815f-b751cbd474e3",
   "metadata": {},
   "outputs": [
    {
     "data": {
      "text/html": [
       "<div>\n",
       "<style scoped>\n",
       "    .dataframe tbody tr th:only-of-type {\n",
       "        vertical-align: middle;\n",
       "    }\n",
       "\n",
       "    .dataframe tbody tr th {\n",
       "        vertical-align: top;\n",
       "    }\n",
       "\n",
       "    .dataframe thead th {\n",
       "        text-align: right;\n",
       "    }\n",
       "</style>\n",
       "<table border=\"1\" class=\"dataframe\">\n",
       "  <thead>\n",
       "    <tr style=\"text-align: right;\">\n",
       "      <th></th>\n",
       "      <th>ID</th>\n",
       "      <th>LABEL</th>\n",
       "      <th>CNT_CHILDREN</th>\n",
       "      <th>AMT_INCOME_TOTAL</th>\n",
       "      <th>FLAG_WORK_PHONE</th>\n",
       "      <th>FLAG_PHONE</th>\n",
       "      <th>FLAG_EMAIL</th>\n",
       "      <th>CNT_FAM_MEMBERS</th>\n",
       "      <th>AGE</th>\n",
       "      <th>YEARS_EMPLOYED</th>\n",
       "      <th>...</th>\n",
       "      <th>NAME_EDUCATION_TYPE_Secondary / secondary special</th>\n",
       "      <th>NAME_FAMILY_STATUS_Married</th>\n",
       "      <th>NAME_FAMILY_STATUS_Separated</th>\n",
       "      <th>NAME_FAMILY_STATUS_Single / not married</th>\n",
       "      <th>NAME_FAMILY_STATUS_Widow</th>\n",
       "      <th>NAME_HOUSING_TYPE_House / apartment</th>\n",
       "      <th>NAME_HOUSING_TYPE_Municipal apartment</th>\n",
       "      <th>NAME_HOUSING_TYPE_Office apartment</th>\n",
       "      <th>NAME_HOUSING_TYPE_Rented apartment</th>\n",
       "      <th>NAME_HOUSING_TYPE_With parents</th>\n",
       "    </tr>\n",
       "  </thead>\n",
       "  <tbody>\n",
       "    <tr>\n",
       "      <th>92938</th>\n",
       "      <td>5008804</td>\n",
       "      <td>0</td>\n",
       "      <td>-0.574026</td>\n",
       "      <td>2.351502</td>\n",
       "      <td>1.0</td>\n",
       "      <td>0.0</td>\n",
       "      <td>0.0</td>\n",
       "      <td>-0.230155</td>\n",
       "      <td>-1.035585</td>\n",
       "      <td>0.918067</td>\n",
       "      <td>...</td>\n",
       "      <td>0</td>\n",
       "      <td>0</td>\n",
       "      <td>0</td>\n",
       "      <td>0</td>\n",
       "      <td>0</td>\n",
       "      <td>0</td>\n",
       "      <td>0</td>\n",
       "      <td>0</td>\n",
       "      <td>1</td>\n",
       "      <td>0</td>\n",
       "    </tr>\n",
       "    <tr>\n",
       "      <th>92939</th>\n",
       "      <td>5008804</td>\n",
       "      <td>0</td>\n",
       "      <td>-0.574026</td>\n",
       "      <td>2.351502</td>\n",
       "      <td>1.0</td>\n",
       "      <td>0.0</td>\n",
       "      <td>0.0</td>\n",
       "      <td>-0.230155</td>\n",
       "      <td>-1.035585</td>\n",
       "      <td>0.918067</td>\n",
       "      <td>...</td>\n",
       "      <td>0</td>\n",
       "      <td>0</td>\n",
       "      <td>0</td>\n",
       "      <td>0</td>\n",
       "      <td>0</td>\n",
       "      <td>0</td>\n",
       "      <td>0</td>\n",
       "      <td>0</td>\n",
       "      <td>1</td>\n",
       "      <td>0</td>\n",
       "    </tr>\n",
       "    <tr>\n",
       "      <th>92940</th>\n",
       "      <td>5008804</td>\n",
       "      <td>0</td>\n",
       "      <td>-0.574026</td>\n",
       "      <td>2.351502</td>\n",
       "      <td>1.0</td>\n",
       "      <td>0.0</td>\n",
       "      <td>0.0</td>\n",
       "      <td>-0.230155</td>\n",
       "      <td>-1.035585</td>\n",
       "      <td>0.918067</td>\n",
       "      <td>...</td>\n",
       "      <td>0</td>\n",
       "      <td>0</td>\n",
       "      <td>0</td>\n",
       "      <td>0</td>\n",
       "      <td>0</td>\n",
       "      <td>0</td>\n",
       "      <td>0</td>\n",
       "      <td>0</td>\n",
       "      <td>1</td>\n",
       "      <td>0</td>\n",
       "    </tr>\n",
       "    <tr>\n",
       "      <th>92941</th>\n",
       "      <td>5008804</td>\n",
       "      <td>0</td>\n",
       "      <td>-0.574026</td>\n",
       "      <td>2.351502</td>\n",
       "      <td>1.0</td>\n",
       "      <td>0.0</td>\n",
       "      <td>0.0</td>\n",
       "      <td>-0.230155</td>\n",
       "      <td>-1.035585</td>\n",
       "      <td>0.918067</td>\n",
       "      <td>...</td>\n",
       "      <td>0</td>\n",
       "      <td>0</td>\n",
       "      <td>0</td>\n",
       "      <td>0</td>\n",
       "      <td>0</td>\n",
       "      <td>0</td>\n",
       "      <td>0</td>\n",
       "      <td>0</td>\n",
       "      <td>1</td>\n",
       "      <td>0</td>\n",
       "    </tr>\n",
       "    <tr>\n",
       "      <th>92942</th>\n",
       "      <td>5008804</td>\n",
       "      <td>0</td>\n",
       "      <td>-0.574026</td>\n",
       "      <td>2.351502</td>\n",
       "      <td>1.0</td>\n",
       "      <td>0.0</td>\n",
       "      <td>0.0</td>\n",
       "      <td>-0.230155</td>\n",
       "      <td>-1.035585</td>\n",
       "      <td>0.918067</td>\n",
       "      <td>...</td>\n",
       "      <td>0</td>\n",
       "      <td>0</td>\n",
       "      <td>0</td>\n",
       "      <td>0</td>\n",
       "      <td>0</td>\n",
       "      <td>0</td>\n",
       "      <td>0</td>\n",
       "      <td>0</td>\n",
       "      <td>1</td>\n",
       "      <td>0</td>\n",
       "    </tr>\n",
       "    <tr>\n",
       "      <th>...</th>\n",
       "      <td>...</td>\n",
       "      <td>...</td>\n",
       "      <td>...</td>\n",
       "      <td>...</td>\n",
       "      <td>...</td>\n",
       "      <td>...</td>\n",
       "      <td>...</td>\n",
       "      <td>...</td>\n",
       "      <td>...</td>\n",
       "      <td>...</td>\n",
       "      <td>...</td>\n",
       "      <td>...</td>\n",
       "      <td>...</td>\n",
       "      <td>...</td>\n",
       "      <td>...</td>\n",
       "      <td>...</td>\n",
       "      <td>...</td>\n",
       "      <td>...</td>\n",
       "      <td>...</td>\n",
       "      <td>...</td>\n",
       "      <td>...</td>\n",
       "    </tr>\n",
       "    <tr>\n",
       "      <th>1048570</th>\n",
       "      <td>5150487</td>\n",
       "      <td>0</td>\n",
       "      <td>-0.574026</td>\n",
       "      <td>0.137422</td>\n",
       "      <td>0.0</td>\n",
       "      <td>0.0</td>\n",
       "      <td>0.0</td>\n",
       "      <td>-0.230155</td>\n",
       "      <td>0.832580</td>\n",
       "      <td>-0.115991</td>\n",
       "      <td>...</td>\n",
       "      <td>1</td>\n",
       "      <td>1</td>\n",
       "      <td>0</td>\n",
       "      <td>0</td>\n",
       "      <td>0</td>\n",
       "      <td>1</td>\n",
       "      <td>0</td>\n",
       "      <td>0</td>\n",
       "      <td>0</td>\n",
       "      <td>0</td>\n",
       "    </tr>\n",
       "    <tr>\n",
       "      <th>1048571</th>\n",
       "      <td>5150487</td>\n",
       "      <td>0</td>\n",
       "      <td>-0.574026</td>\n",
       "      <td>0.137422</td>\n",
       "      <td>0.0</td>\n",
       "      <td>0.0</td>\n",
       "      <td>0.0</td>\n",
       "      <td>-0.230155</td>\n",
       "      <td>0.832580</td>\n",
       "      <td>-0.115991</td>\n",
       "      <td>...</td>\n",
       "      <td>1</td>\n",
       "      <td>1</td>\n",
       "      <td>0</td>\n",
       "      <td>0</td>\n",
       "      <td>0</td>\n",
       "      <td>1</td>\n",
       "      <td>0</td>\n",
       "      <td>0</td>\n",
       "      <td>0</td>\n",
       "      <td>0</td>\n",
       "    </tr>\n",
       "    <tr>\n",
       "      <th>1048572</th>\n",
       "      <td>5150487</td>\n",
       "      <td>0</td>\n",
       "      <td>-0.574026</td>\n",
       "      <td>0.137422</td>\n",
       "      <td>0.0</td>\n",
       "      <td>0.0</td>\n",
       "      <td>0.0</td>\n",
       "      <td>-0.230155</td>\n",
       "      <td>0.832580</td>\n",
       "      <td>-0.115991</td>\n",
       "      <td>...</td>\n",
       "      <td>1</td>\n",
       "      <td>1</td>\n",
       "      <td>0</td>\n",
       "      <td>0</td>\n",
       "      <td>0</td>\n",
       "      <td>1</td>\n",
       "      <td>0</td>\n",
       "      <td>0</td>\n",
       "      <td>0</td>\n",
       "      <td>0</td>\n",
       "    </tr>\n",
       "    <tr>\n",
       "      <th>1048573</th>\n",
       "      <td>5150487</td>\n",
       "      <td>0</td>\n",
       "      <td>-0.574026</td>\n",
       "      <td>0.137422</td>\n",
       "      <td>0.0</td>\n",
       "      <td>0.0</td>\n",
       "      <td>0.0</td>\n",
       "      <td>-0.230155</td>\n",
       "      <td>0.832580</td>\n",
       "      <td>-0.115991</td>\n",
       "      <td>...</td>\n",
       "      <td>1</td>\n",
       "      <td>1</td>\n",
       "      <td>0</td>\n",
       "      <td>0</td>\n",
       "      <td>0</td>\n",
       "      <td>1</td>\n",
       "      <td>0</td>\n",
       "      <td>0</td>\n",
       "      <td>0</td>\n",
       "      <td>0</td>\n",
       "    </tr>\n",
       "    <tr>\n",
       "      <th>1048574</th>\n",
       "      <td>5150487</td>\n",
       "      <td>0</td>\n",
       "      <td>-0.574026</td>\n",
       "      <td>0.137422</td>\n",
       "      <td>0.0</td>\n",
       "      <td>0.0</td>\n",
       "      <td>0.0</td>\n",
       "      <td>-0.230155</td>\n",
       "      <td>0.832580</td>\n",
       "      <td>-0.115991</td>\n",
       "      <td>...</td>\n",
       "      <td>1</td>\n",
       "      <td>1</td>\n",
       "      <td>0</td>\n",
       "      <td>0</td>\n",
       "      <td>0</td>\n",
       "      <td>1</td>\n",
       "      <td>0</td>\n",
       "      <td>0</td>\n",
       "      <td>0</td>\n",
       "      <td>0</td>\n",
       "    </tr>\n",
       "  </tbody>\n",
       "</table>\n",
       "<p>777715 rows × 30 columns</p>\n",
       "</div>"
      ],
      "text/plain": [
       "              ID  LABEL  CNT_CHILDREN  AMT_INCOME_TOTAL  FLAG_WORK_PHONE  \\\n",
       "92938    5008804      0     -0.574026          2.351502              1.0   \n",
       "92939    5008804      0     -0.574026          2.351502              1.0   \n",
       "92940    5008804      0     -0.574026          2.351502              1.0   \n",
       "92941    5008804      0     -0.574026          2.351502              1.0   \n",
       "92942    5008804      0     -0.574026          2.351502              1.0   \n",
       "...          ...    ...           ...               ...              ...   \n",
       "1048570  5150487      0     -0.574026          0.137422              0.0   \n",
       "1048571  5150487      0     -0.574026          0.137422              0.0   \n",
       "1048572  5150487      0     -0.574026          0.137422              0.0   \n",
       "1048573  5150487      0     -0.574026          0.137422              0.0   \n",
       "1048574  5150487      0     -0.574026          0.137422              0.0   \n",
       "\n",
       "         FLAG_PHONE  FLAG_EMAIL  CNT_FAM_MEMBERS       AGE  YEARS_EMPLOYED  \\\n",
       "92938           0.0         0.0        -0.230155 -1.035585        0.918067   \n",
       "92939           0.0         0.0        -0.230155 -1.035585        0.918067   \n",
       "92940           0.0         0.0        -0.230155 -1.035585        0.918067   \n",
       "92941           0.0         0.0        -0.230155 -1.035585        0.918067   \n",
       "92942           0.0         0.0        -0.230155 -1.035585        0.918067   \n",
       "...             ...         ...              ...       ...             ...   \n",
       "1048570         0.0         0.0        -0.230155  0.832580       -0.115991   \n",
       "1048571         0.0         0.0        -0.230155  0.832580       -0.115991   \n",
       "1048572         0.0         0.0        -0.230155  0.832580       -0.115991   \n",
       "1048573         0.0         0.0        -0.230155  0.832580       -0.115991   \n",
       "1048574         0.0         0.0        -0.230155  0.832580       -0.115991   \n",
       "\n",
       "         ...  NAME_EDUCATION_TYPE_Secondary / secondary special  \\\n",
       "92938    ...                                                  0   \n",
       "92939    ...                                                  0   \n",
       "92940    ...                                                  0   \n",
       "92941    ...                                                  0   \n",
       "92942    ...                                                  0   \n",
       "...      ...                                                ...   \n",
       "1048570  ...                                                  1   \n",
       "1048571  ...                                                  1   \n",
       "1048572  ...                                                  1   \n",
       "1048573  ...                                                  1   \n",
       "1048574  ...                                                  1   \n",
       "\n",
       "         NAME_FAMILY_STATUS_Married  NAME_FAMILY_STATUS_Separated  \\\n",
       "92938                             0                             0   \n",
       "92939                             0                             0   \n",
       "92940                             0                             0   \n",
       "92941                             0                             0   \n",
       "92942                             0                             0   \n",
       "...                             ...                           ...   \n",
       "1048570                           1                             0   \n",
       "1048571                           1                             0   \n",
       "1048572                           1                             0   \n",
       "1048573                           1                             0   \n",
       "1048574                           1                             0   \n",
       "\n",
       "         NAME_FAMILY_STATUS_Single / not married  NAME_FAMILY_STATUS_Widow  \\\n",
       "92938                                          0                         0   \n",
       "92939                                          0                         0   \n",
       "92940                                          0                         0   \n",
       "92941                                          0                         0   \n",
       "92942                                          0                         0   \n",
       "...                                          ...                       ...   \n",
       "1048570                                        0                         0   \n",
       "1048571                                        0                         0   \n",
       "1048572                                        0                         0   \n",
       "1048573                                        0                         0   \n",
       "1048574                                        0                         0   \n",
       "\n",
       "         NAME_HOUSING_TYPE_House / apartment  \\\n",
       "92938                                      0   \n",
       "92939                                      0   \n",
       "92940                                      0   \n",
       "92941                                      0   \n",
       "92942                                      0   \n",
       "...                                      ...   \n",
       "1048570                                    1   \n",
       "1048571                                    1   \n",
       "1048572                                    1   \n",
       "1048573                                    1   \n",
       "1048574                                    1   \n",
       "\n",
       "         NAME_HOUSING_TYPE_Municipal apartment  \\\n",
       "92938                                        0   \n",
       "92939                                        0   \n",
       "92940                                        0   \n",
       "92941                                        0   \n",
       "92942                                        0   \n",
       "...                                        ...   \n",
       "1048570                                      0   \n",
       "1048571                                      0   \n",
       "1048572                                      0   \n",
       "1048573                                      0   \n",
       "1048574                                      0   \n",
       "\n",
       "         NAME_HOUSING_TYPE_Office apartment  \\\n",
       "92938                                     0   \n",
       "92939                                     0   \n",
       "92940                                     0   \n",
       "92941                                     0   \n",
       "92942                                     0   \n",
       "...                                     ...   \n",
       "1048570                                   0   \n",
       "1048571                                   0   \n",
       "1048572                                   0   \n",
       "1048573                                   0   \n",
       "1048574                                   0   \n",
       "\n",
       "         NAME_HOUSING_TYPE_Rented apartment  NAME_HOUSING_TYPE_With parents  \n",
       "92938                                     1                               0  \n",
       "92939                                     1                               0  \n",
       "92940                                     1                               0  \n",
       "92941                                     1                               0  \n",
       "92942                                     1                               0  \n",
       "...                                     ...                             ...  \n",
       "1048570                                   0                               0  \n",
       "1048571                                   0                               0  \n",
       "1048572                                   0                               0  \n",
       "1048573                                   0                               0  \n",
       "1048574                                   0                               0  \n",
       "\n",
       "[777715 rows x 30 columns]"
      ]
     },
     "execution_count": 52,
     "metadata": {},
     "output_type": "execute_result"
    }
   ],
   "source": [
    "merged2"
   ]
  },
  {
   "cell_type": "markdown",
   "id": "c3bf7cb1-3553-4327-84cf-0a7a58834186",
   "metadata": {},
   "source": [
    "# Modelling"
   ]
  },
  {
   "cell_type": "code",
   "execution_count": 53,
   "id": "95a68f76-ba8b-445f-8a16-faae19d5cced",
   "metadata": {},
   "outputs": [],
   "source": [
    "merged3 = merged2.copy()"
   ]
  },
  {
   "cell_type": "code",
   "execution_count": 54,
   "id": "35a00048-1b13-4a39-af37-f4d3fb64a02e",
   "metadata": {},
   "outputs": [],
   "source": [
    "credit_approval = merged3.drop('ID', axis = 1, inplace = False)"
   ]
  },
  {
   "cell_type": "code",
   "execution_count": 55,
   "id": "347fe318-6f1a-4144-80fc-ba6f93665653",
   "metadata": {},
   "outputs": [
    {
     "data": {
      "text/html": [
       "<div>\n",
       "<style scoped>\n",
       "    .dataframe tbody tr th:only-of-type {\n",
       "        vertical-align: middle;\n",
       "    }\n",
       "\n",
       "    .dataframe tbody tr th {\n",
       "        vertical-align: top;\n",
       "    }\n",
       "\n",
       "    .dataframe thead th {\n",
       "        text-align: right;\n",
       "    }\n",
       "</style>\n",
       "<table border=\"1\" class=\"dataframe\">\n",
       "  <thead>\n",
       "    <tr style=\"text-align: right;\">\n",
       "      <th></th>\n",
       "      <th>LABEL</th>\n",
       "      <th>CNT_CHILDREN</th>\n",
       "      <th>AMT_INCOME_TOTAL</th>\n",
       "      <th>FLAG_WORK_PHONE</th>\n",
       "      <th>FLAG_PHONE</th>\n",
       "      <th>FLAG_EMAIL</th>\n",
       "      <th>CNT_FAM_MEMBERS</th>\n",
       "      <th>AGE</th>\n",
       "      <th>YEARS_EMPLOYED</th>\n",
       "      <th>CODE_GENDER_M</th>\n",
       "      <th>...</th>\n",
       "      <th>NAME_EDUCATION_TYPE_Secondary / secondary special</th>\n",
       "      <th>NAME_FAMILY_STATUS_Married</th>\n",
       "      <th>NAME_FAMILY_STATUS_Separated</th>\n",
       "      <th>NAME_FAMILY_STATUS_Single / not married</th>\n",
       "      <th>NAME_FAMILY_STATUS_Widow</th>\n",
       "      <th>NAME_HOUSING_TYPE_House / apartment</th>\n",
       "      <th>NAME_HOUSING_TYPE_Municipal apartment</th>\n",
       "      <th>NAME_HOUSING_TYPE_Office apartment</th>\n",
       "      <th>NAME_HOUSING_TYPE_Rented apartment</th>\n",
       "      <th>NAME_HOUSING_TYPE_With parents</th>\n",
       "    </tr>\n",
       "  </thead>\n",
       "  <tbody>\n",
       "    <tr>\n",
       "      <th>92938</th>\n",
       "      <td>0</td>\n",
       "      <td>-0.574026</td>\n",
       "      <td>2.351502</td>\n",
       "      <td>1.0</td>\n",
       "      <td>0.0</td>\n",
       "      <td>0.0</td>\n",
       "      <td>-0.230155</td>\n",
       "      <td>-1.035585</td>\n",
       "      <td>0.918067</td>\n",
       "      <td>1</td>\n",
       "      <td>...</td>\n",
       "      <td>0</td>\n",
       "      <td>0</td>\n",
       "      <td>0</td>\n",
       "      <td>0</td>\n",
       "      <td>0</td>\n",
       "      <td>0</td>\n",
       "      <td>0</td>\n",
       "      <td>0</td>\n",
       "      <td>1</td>\n",
       "      <td>0</td>\n",
       "    </tr>\n",
       "    <tr>\n",
       "      <th>92939</th>\n",
       "      <td>0</td>\n",
       "      <td>-0.574026</td>\n",
       "      <td>2.351502</td>\n",
       "      <td>1.0</td>\n",
       "      <td>0.0</td>\n",
       "      <td>0.0</td>\n",
       "      <td>-0.230155</td>\n",
       "      <td>-1.035585</td>\n",
       "      <td>0.918067</td>\n",
       "      <td>1</td>\n",
       "      <td>...</td>\n",
       "      <td>0</td>\n",
       "      <td>0</td>\n",
       "      <td>0</td>\n",
       "      <td>0</td>\n",
       "      <td>0</td>\n",
       "      <td>0</td>\n",
       "      <td>0</td>\n",
       "      <td>0</td>\n",
       "      <td>1</td>\n",
       "      <td>0</td>\n",
       "    </tr>\n",
       "    <tr>\n",
       "      <th>92940</th>\n",
       "      <td>0</td>\n",
       "      <td>-0.574026</td>\n",
       "      <td>2.351502</td>\n",
       "      <td>1.0</td>\n",
       "      <td>0.0</td>\n",
       "      <td>0.0</td>\n",
       "      <td>-0.230155</td>\n",
       "      <td>-1.035585</td>\n",
       "      <td>0.918067</td>\n",
       "      <td>1</td>\n",
       "      <td>...</td>\n",
       "      <td>0</td>\n",
       "      <td>0</td>\n",
       "      <td>0</td>\n",
       "      <td>0</td>\n",
       "      <td>0</td>\n",
       "      <td>0</td>\n",
       "      <td>0</td>\n",
       "      <td>0</td>\n",
       "      <td>1</td>\n",
       "      <td>0</td>\n",
       "    </tr>\n",
       "    <tr>\n",
       "      <th>92941</th>\n",
       "      <td>0</td>\n",
       "      <td>-0.574026</td>\n",
       "      <td>2.351502</td>\n",
       "      <td>1.0</td>\n",
       "      <td>0.0</td>\n",
       "      <td>0.0</td>\n",
       "      <td>-0.230155</td>\n",
       "      <td>-1.035585</td>\n",
       "      <td>0.918067</td>\n",
       "      <td>1</td>\n",
       "      <td>...</td>\n",
       "      <td>0</td>\n",
       "      <td>0</td>\n",
       "      <td>0</td>\n",
       "      <td>0</td>\n",
       "      <td>0</td>\n",
       "      <td>0</td>\n",
       "      <td>0</td>\n",
       "      <td>0</td>\n",
       "      <td>1</td>\n",
       "      <td>0</td>\n",
       "    </tr>\n",
       "    <tr>\n",
       "      <th>92942</th>\n",
       "      <td>0</td>\n",
       "      <td>-0.574026</td>\n",
       "      <td>2.351502</td>\n",
       "      <td>1.0</td>\n",
       "      <td>0.0</td>\n",
       "      <td>0.0</td>\n",
       "      <td>-0.230155</td>\n",
       "      <td>-1.035585</td>\n",
       "      <td>0.918067</td>\n",
       "      <td>1</td>\n",
       "      <td>...</td>\n",
       "      <td>0</td>\n",
       "      <td>0</td>\n",
       "      <td>0</td>\n",
       "      <td>0</td>\n",
       "      <td>0</td>\n",
       "      <td>0</td>\n",
       "      <td>0</td>\n",
       "      <td>0</td>\n",
       "      <td>1</td>\n",
       "      <td>0</td>\n",
       "    </tr>\n",
       "    <tr>\n",
       "      <th>...</th>\n",
       "      <td>...</td>\n",
       "      <td>...</td>\n",
       "      <td>...</td>\n",
       "      <td>...</td>\n",
       "      <td>...</td>\n",
       "      <td>...</td>\n",
       "      <td>...</td>\n",
       "      <td>...</td>\n",
       "      <td>...</td>\n",
       "      <td>...</td>\n",
       "      <td>...</td>\n",
       "      <td>...</td>\n",
       "      <td>...</td>\n",
       "      <td>...</td>\n",
       "      <td>...</td>\n",
       "      <td>...</td>\n",
       "      <td>...</td>\n",
       "      <td>...</td>\n",
       "      <td>...</td>\n",
       "      <td>...</td>\n",
       "      <td>...</td>\n",
       "    </tr>\n",
       "    <tr>\n",
       "      <th>1048570</th>\n",
       "      <td>0</td>\n",
       "      <td>-0.574026</td>\n",
       "      <td>0.137422</td>\n",
       "      <td>0.0</td>\n",
       "      <td>0.0</td>\n",
       "      <td>0.0</td>\n",
       "      <td>-0.230155</td>\n",
       "      <td>0.832580</td>\n",
       "      <td>-0.115991</td>\n",
       "      <td>1</td>\n",
       "      <td>...</td>\n",
       "      <td>1</td>\n",
       "      <td>1</td>\n",
       "      <td>0</td>\n",
       "      <td>0</td>\n",
       "      <td>0</td>\n",
       "      <td>1</td>\n",
       "      <td>0</td>\n",
       "      <td>0</td>\n",
       "      <td>0</td>\n",
       "      <td>0</td>\n",
       "    </tr>\n",
       "    <tr>\n",
       "      <th>1048571</th>\n",
       "      <td>0</td>\n",
       "      <td>-0.574026</td>\n",
       "      <td>0.137422</td>\n",
       "      <td>0.0</td>\n",
       "      <td>0.0</td>\n",
       "      <td>0.0</td>\n",
       "      <td>-0.230155</td>\n",
       "      <td>0.832580</td>\n",
       "      <td>-0.115991</td>\n",
       "      <td>1</td>\n",
       "      <td>...</td>\n",
       "      <td>1</td>\n",
       "      <td>1</td>\n",
       "      <td>0</td>\n",
       "      <td>0</td>\n",
       "      <td>0</td>\n",
       "      <td>1</td>\n",
       "      <td>0</td>\n",
       "      <td>0</td>\n",
       "      <td>0</td>\n",
       "      <td>0</td>\n",
       "    </tr>\n",
       "    <tr>\n",
       "      <th>1048572</th>\n",
       "      <td>0</td>\n",
       "      <td>-0.574026</td>\n",
       "      <td>0.137422</td>\n",
       "      <td>0.0</td>\n",
       "      <td>0.0</td>\n",
       "      <td>0.0</td>\n",
       "      <td>-0.230155</td>\n",
       "      <td>0.832580</td>\n",
       "      <td>-0.115991</td>\n",
       "      <td>1</td>\n",
       "      <td>...</td>\n",
       "      <td>1</td>\n",
       "      <td>1</td>\n",
       "      <td>0</td>\n",
       "      <td>0</td>\n",
       "      <td>0</td>\n",
       "      <td>1</td>\n",
       "      <td>0</td>\n",
       "      <td>0</td>\n",
       "      <td>0</td>\n",
       "      <td>0</td>\n",
       "    </tr>\n",
       "    <tr>\n",
       "      <th>1048573</th>\n",
       "      <td>0</td>\n",
       "      <td>-0.574026</td>\n",
       "      <td>0.137422</td>\n",
       "      <td>0.0</td>\n",
       "      <td>0.0</td>\n",
       "      <td>0.0</td>\n",
       "      <td>-0.230155</td>\n",
       "      <td>0.832580</td>\n",
       "      <td>-0.115991</td>\n",
       "      <td>1</td>\n",
       "      <td>...</td>\n",
       "      <td>1</td>\n",
       "      <td>1</td>\n",
       "      <td>0</td>\n",
       "      <td>0</td>\n",
       "      <td>0</td>\n",
       "      <td>1</td>\n",
       "      <td>0</td>\n",
       "      <td>0</td>\n",
       "      <td>0</td>\n",
       "      <td>0</td>\n",
       "    </tr>\n",
       "    <tr>\n",
       "      <th>1048574</th>\n",
       "      <td>0</td>\n",
       "      <td>-0.574026</td>\n",
       "      <td>0.137422</td>\n",
       "      <td>0.0</td>\n",
       "      <td>0.0</td>\n",
       "      <td>0.0</td>\n",
       "      <td>-0.230155</td>\n",
       "      <td>0.832580</td>\n",
       "      <td>-0.115991</td>\n",
       "      <td>1</td>\n",
       "      <td>...</td>\n",
       "      <td>1</td>\n",
       "      <td>1</td>\n",
       "      <td>0</td>\n",
       "      <td>0</td>\n",
       "      <td>0</td>\n",
       "      <td>1</td>\n",
       "      <td>0</td>\n",
       "      <td>0</td>\n",
       "      <td>0</td>\n",
       "      <td>0</td>\n",
       "    </tr>\n",
       "  </tbody>\n",
       "</table>\n",
       "<p>777715 rows × 29 columns</p>\n",
       "</div>"
      ],
      "text/plain": [
       "         LABEL  CNT_CHILDREN  AMT_INCOME_TOTAL  FLAG_WORK_PHONE  FLAG_PHONE  \\\n",
       "92938        0     -0.574026          2.351502              1.0         0.0   \n",
       "92939        0     -0.574026          2.351502              1.0         0.0   \n",
       "92940        0     -0.574026          2.351502              1.0         0.0   \n",
       "92941        0     -0.574026          2.351502              1.0         0.0   \n",
       "92942        0     -0.574026          2.351502              1.0         0.0   \n",
       "...        ...           ...               ...              ...         ...   \n",
       "1048570      0     -0.574026          0.137422              0.0         0.0   \n",
       "1048571      0     -0.574026          0.137422              0.0         0.0   \n",
       "1048572      0     -0.574026          0.137422              0.0         0.0   \n",
       "1048573      0     -0.574026          0.137422              0.0         0.0   \n",
       "1048574      0     -0.574026          0.137422              0.0         0.0   \n",
       "\n",
       "         FLAG_EMAIL  CNT_FAM_MEMBERS       AGE  YEARS_EMPLOYED  CODE_GENDER_M  \\\n",
       "92938           0.0        -0.230155 -1.035585        0.918067              1   \n",
       "92939           0.0        -0.230155 -1.035585        0.918067              1   \n",
       "92940           0.0        -0.230155 -1.035585        0.918067              1   \n",
       "92941           0.0        -0.230155 -1.035585        0.918067              1   \n",
       "92942           0.0        -0.230155 -1.035585        0.918067              1   \n",
       "...             ...              ...       ...             ...            ...   \n",
       "1048570         0.0        -0.230155  0.832580       -0.115991              1   \n",
       "1048571         0.0        -0.230155  0.832580       -0.115991              1   \n",
       "1048572         0.0        -0.230155  0.832580       -0.115991              1   \n",
       "1048573         0.0        -0.230155  0.832580       -0.115991              1   \n",
       "1048574         0.0        -0.230155  0.832580       -0.115991              1   \n",
       "\n",
       "         ...  NAME_EDUCATION_TYPE_Secondary / secondary special  \\\n",
       "92938    ...                                                  0   \n",
       "92939    ...                                                  0   \n",
       "92940    ...                                                  0   \n",
       "92941    ...                                                  0   \n",
       "92942    ...                                                  0   \n",
       "...      ...                                                ...   \n",
       "1048570  ...                                                  1   \n",
       "1048571  ...                                                  1   \n",
       "1048572  ...                                                  1   \n",
       "1048573  ...                                                  1   \n",
       "1048574  ...                                                  1   \n",
       "\n",
       "         NAME_FAMILY_STATUS_Married  NAME_FAMILY_STATUS_Separated  \\\n",
       "92938                             0                             0   \n",
       "92939                             0                             0   \n",
       "92940                             0                             0   \n",
       "92941                             0                             0   \n",
       "92942                             0                             0   \n",
       "...                             ...                           ...   \n",
       "1048570                           1                             0   \n",
       "1048571                           1                             0   \n",
       "1048572                           1                             0   \n",
       "1048573                           1                             0   \n",
       "1048574                           1                             0   \n",
       "\n",
       "         NAME_FAMILY_STATUS_Single / not married  NAME_FAMILY_STATUS_Widow  \\\n",
       "92938                                          0                         0   \n",
       "92939                                          0                         0   \n",
       "92940                                          0                         0   \n",
       "92941                                          0                         0   \n",
       "92942                                          0                         0   \n",
       "...                                          ...                       ...   \n",
       "1048570                                        0                         0   \n",
       "1048571                                        0                         0   \n",
       "1048572                                        0                         0   \n",
       "1048573                                        0                         0   \n",
       "1048574                                        0                         0   \n",
       "\n",
       "         NAME_HOUSING_TYPE_House / apartment  \\\n",
       "92938                                      0   \n",
       "92939                                      0   \n",
       "92940                                      0   \n",
       "92941                                      0   \n",
       "92942                                      0   \n",
       "...                                      ...   \n",
       "1048570                                    1   \n",
       "1048571                                    1   \n",
       "1048572                                    1   \n",
       "1048573                                    1   \n",
       "1048574                                    1   \n",
       "\n",
       "         NAME_HOUSING_TYPE_Municipal apartment  \\\n",
       "92938                                        0   \n",
       "92939                                        0   \n",
       "92940                                        0   \n",
       "92941                                        0   \n",
       "92942                                        0   \n",
       "...                                        ...   \n",
       "1048570                                      0   \n",
       "1048571                                      0   \n",
       "1048572                                      0   \n",
       "1048573                                      0   \n",
       "1048574                                      0   \n",
       "\n",
       "         NAME_HOUSING_TYPE_Office apartment  \\\n",
       "92938                                     0   \n",
       "92939                                     0   \n",
       "92940                                     0   \n",
       "92941                                     0   \n",
       "92942                                     0   \n",
       "...                                     ...   \n",
       "1048570                                   0   \n",
       "1048571                                   0   \n",
       "1048572                                   0   \n",
       "1048573                                   0   \n",
       "1048574                                   0   \n",
       "\n",
       "         NAME_HOUSING_TYPE_Rented apartment  NAME_HOUSING_TYPE_With parents  \n",
       "92938                                     1                               0  \n",
       "92939                                     1                               0  \n",
       "92940                                     1                               0  \n",
       "92941                                     1                               0  \n",
       "92942                                     1                               0  \n",
       "...                                     ...                             ...  \n",
       "1048570                                   0                               0  \n",
       "1048571                                   0                               0  \n",
       "1048572                                   0                               0  \n",
       "1048573                                   0                               0  \n",
       "1048574                                   0                               0  \n",
       "\n",
       "[777715 rows x 29 columns]"
      ]
     },
     "execution_count": 55,
     "metadata": {},
     "output_type": "execute_result"
    }
   ],
   "source": [
    "credit_approval"
   ]
  },
  {
   "cell_type": "markdown",
   "id": "6b04ef1a-e0d8-4495-b859-18244633afa1",
   "metadata": {},
   "source": [
    "## Create Function"
   ]
  },
  {
   "cell_type": "code",
   "execution_count": 56,
   "id": "83640ab4-9837-46fe-b94e-29d04f0c13c8",
   "metadata": {},
   "outputs": [],
   "source": [
    "from sklearn.metrics import accuracy_score, precision_score, recall_score, f1_score, roc_auc_score\n",
    "\n",
    "def eval_classification(model, X_train, y_train, X_test, y_test):\n",
    "    y_pred = model.predict(X_test)\n",
    "    y_pred_train = model.predict(X_train)\n",
    "    y_pred_proba = model.predict_proba(X_test)\n",
    "    y_pred_proba_train = model.predict_proba(X_train)\n",
    "    \n",
    "    print(\"Accuracy (Test Set): %.3f\" % accuracy_score(y_test, y_pred))\n",
    "    print(\"Accuracy (Train Set): %.3f\" % accuracy_score(y_train, y_pred_train))\n",
    "    print(\"Precision (Test Set): %.3f\" % precision_score(y_test, y_pred))\n",
    "    print(\"Precision (Train Set): %.3f\" % precision_score(y_train, y_pred_train))\n",
    "    print(\"Recall (Test Set): %.3f\" % recall_score(y_test, y_pred))\n",
    "    print(\"Recall (Train Set): %.3f\" % recall_score(y_train, y_pred_train))\n",
    "    print(\"F1-Score (Test Set): %.3f\" % f1_score(y_test, y_pred))\n",
    "    print(\"F1-Score (Train Set): %.3f\" % f1_score(y_train, y_pred_train))\n",
    "    print(\"ROC_AUC (test-proba): %.3f\" % roc_auc_score(y_test, y_pred_proba[:, 1]))\n",
    "    print(\"ROC_AUC (train-proba): %.3f\" % roc_auc_score(y_train, y_pred_proba_train[:, 1]))"
   ]
  },
  {
   "cell_type": "markdown",
   "id": "13a28daa-2bb4-436f-a05d-888baa5eadc1",
   "metadata": {},
   "source": [
    "## Train Test Split"
   ]
  },
  {
   "cell_type": "code",
   "execution_count": 57,
   "id": "796075ff-4d92-427c-835e-8e8137cc1772",
   "metadata": {},
   "outputs": [],
   "source": [
    "X = credit_approval.drop('LABEL', axis=1)\n",
    "y = credit_approval['LABEL']\n",
    "X_train, X_test, y_train, y_test = train_test_split(X, y, test_size=0.25, random_state=21)"
   ]
  },
  {
   "cell_type": "code",
   "execution_count": 58,
   "id": "0d4f8054-73e1-4cf2-90e9-a83b68211bfe",
   "metadata": {},
   "outputs": [
    {
     "data": {
      "text/plain": [
       "((583286, 28), (194429, 28))"
      ]
     },
     "execution_count": 58,
     "metadata": {},
     "output_type": "execute_result"
    }
   ],
   "source": [
    "X_train.shape, X_test.shape"
   ]
  },
  {
   "cell_type": "markdown",
   "id": "ee0bc317-9a6a-4b1c-9cda-15fc4dbf8560",
   "metadata": {},
   "source": [
    "## Evaluation Matrix"
   ]
  },
  {
   "cell_type": "code",
   "execution_count": 59,
   "id": "2696ac54-b5a6-46df-b64f-2c2f859e67a5",
   "metadata": {},
   "outputs": [
    {
     "name": "stdout",
     "output_type": "stream",
     "text": [
      "Accuracy (Test Set): 0.713\n",
      "Accuracy (Train Set): 0.722\n",
      "Precision (Test Set): 0.689\n",
      "Precision (Train Set): 0.704\n",
      "Recall (Test Set): 0.479\n",
      "Recall (Train Set): 0.492\n",
      "F1-Score (Test Set): 0.565\n",
      "F1-Score (Train Set): 0.579\n",
      "ROC_AUC (test-proba): 0.763\n",
      "ROC_AUC (train-proba): 0.777\n"
     ]
    }
   ],
   "source": [
    "from sklearn.tree import DecisionTreeClassifier\n",
    "\n",
    "dt = DecisionTreeClassifier()\n",
    "dt.fit(X_train, y_train)\n",
    "\n",
    "eval_classification(dt, X_train, y_train, X_test, y_test)"
   ]
  },
  {
   "cell_type": "code",
   "execution_count": 60,
   "id": "c2345388-448b-41bc-861d-b4cf06c0dcd6",
   "metadata": {},
   "outputs": [
    {
     "name": "stdout",
     "output_type": "stream",
     "text": [
      "Accuracy (Test Set): 0.713\n",
      "Accuracy (Train Set): 0.722\n",
      "Precision (Test Set): 0.687\n",
      "Precision (Train Set): 0.702\n",
      "Recall (Test Set): 0.482\n",
      "Recall (Train Set): 0.495\n",
      "F1-Score (Test Set): 0.567\n",
      "F1-Score (Train Set): 0.581\n",
      "ROC_AUC (test-proba): 0.763\n",
      "ROC_AUC (train-proba): 0.777\n"
     ]
    }
   ],
   "source": [
    "from sklearn.ensemble import RandomForestClassifier\n",
    "\n",
    "rfc = RandomForestClassifier()\n",
    "rfc.fit(X_train, y_train)\n",
    "\n",
    "eval_classification(rfc, X_train, y_train, X_test, y_test)"
   ]
  },
  {
   "cell_type": "markdown",
   "id": "29510ae2-72a3-446f-bf63-7d7c25e6a05d",
   "metadata": {},
   "source": [
    "## SMOTE FEATURE LABEL"
   ]
  },
  {
   "cell_type": "code",
   "execution_count": 61,
   "id": "5244cc3d-ab0c-4276-b7dc-8cccd910f54e",
   "metadata": {},
   "outputs": [
    {
     "name": "stdout",
     "output_type": "stream",
     "text": [
      "Original dataset shape 0    356679\n",
      "1    226607\n",
      "Name: LABEL, dtype: int64\n",
      "Resample dataset shape 0    356679\n",
      "1    356679\n",
      "Name: LABEL, dtype: int64\n"
     ]
    }
   ],
   "source": [
    "#coba smote\n",
    "smote = SMOTE()\n",
    "X_smote, y_smote = smote.fit_resample(X_train, y_train)\n",
    "print('Original dataset shape', y_train.value_counts())\n",
    "print('Resample dataset shape', y_smote.value_counts())"
   ]
  },
  {
   "cell_type": "code",
   "execution_count": 62,
   "id": "a691030f-8fce-44ac-9a2a-7d1821dc07b1",
   "metadata": {},
   "outputs": [
    {
     "name": "stdout",
     "output_type": "stream",
     "text": [
      "Accuracy (Test Set): 0.713\n",
      "Accuracy (Train Set): 0.680\n",
      "Precision (Test Set): 0.689\n",
      "Precision (Train Set): 0.789\n",
      "Recall (Test Set): 0.479\n",
      "Recall (Train Set): 0.491\n",
      "F1-Score (Test Set): 0.565\n",
      "F1-Score (Train Set): 0.605\n",
      "ROC_AUC (test-proba): 0.763\n",
      "ROC_AUC (train-proba): 0.777\n"
     ]
    }
   ],
   "source": [
    "dt_smote = DecisionTreeClassifier()\n",
    "dt_smote.fit(X_smote, y_smote)\n",
    "\n",
    "eval_classification(dt, X_smote, y_smote, X_test, y_test)"
   ]
  },
  {
   "cell_type": "code",
   "execution_count": 63,
   "id": "a3df0928-a3e6-47aa-9fb2-cd7425d3a070",
   "metadata": {},
   "outputs": [
    {
     "name": "stdout",
     "output_type": "stream",
     "text": [
      "Accuracy (Test Set): 0.713\n",
      "Accuracy (Train Set): 0.680\n",
      "Precision (Test Set): 0.689\n",
      "Precision (Train Set): 0.789\n",
      "Recall (Test Set): 0.479\n",
      "Recall (Train Set): 0.491\n",
      "F1-Score (Test Set): 0.565\n",
      "F1-Score (Train Set): 0.605\n",
      "ROC_AUC (test-proba): 0.763\n",
      "ROC_AUC (train-proba): 0.777\n"
     ]
    }
   ],
   "source": [
    "rf_smote = RandomForestClassifier()\n",
    "rf_smote.fit(X_smote, y_smote)\n",
    "\n",
    "eval_classification(dt, X_smote, y_smote, X_test, y_test)"
   ]
  },
  {
   "cell_type": "markdown",
   "id": "e02c23d9-56a4-42ca-8fcd-3f30d2f6fcdc",
   "metadata": {},
   "source": [
    "**Berdasarkan matrix evaluasi kedua kondisi (tanpa SMOTE dan menggunakan SMOTE) hasil yang didapat tidak memiliki perbedaan signifikan**"
   ]
  },
  {
   "cell_type": "markdown",
   "id": "ded048b8-05d3-4ccb-9d51-3a1a803b05f6",
   "metadata": {},
   "source": [
    "## Visualize AUC and KS"
   ]
  },
  {
   "cell_type": "markdown",
   "id": "04925a71-ed7d-4128-9a7e-f2df74b30b50",
   "metadata": {},
   "source": [
    "Untuk mengukur performa model, dua metrik yang umum dipakai dalam dunia credit risk adalah AUC dan KS. "
   ]
  },
  {
   "cell_type": "code",
   "execution_count": 64,
   "id": "ee882cb5-8419-4633-a818-408020f2eec4",
   "metadata": {},
   "outputs": [],
   "source": [
    "y_pred_proba = rfc.predict_proba(X_test)[:][:,1]\n",
    "\n",
    "df_actual_predicted = pd.concat([pd.DataFrame(np.array(y_test), columns=['y_actual']), pd.DataFrame(y_pred_proba, columns=['y_pred_proba'])], axis=1)\n",
    "df_actual_predicted.index = y_test.index"
   ]
  },
  {
   "cell_type": "code",
   "execution_count": 65,
   "id": "fda7242a-c3cb-4f55-bab0-3808ecda0eee",
   "metadata": {},
   "outputs": [],
   "source": [
    "from sklearn.metrics import roc_curve, roc_auc_score"
   ]
  },
  {
   "cell_type": "code",
   "execution_count": 66,
   "id": "77d2b7f0-1998-452c-911f-bf6a8ed1d9a9",
   "metadata": {},
   "outputs": [
    {
     "data": {
      "text/plain": [
       "<matplotlib.legend.Legend at 0x24b1acf3670>"
      ]
     },
     "execution_count": 66,
     "metadata": {},
     "output_type": "execute_result"
    },
    {
     "data": {
      "image/png": "[encoded data removed]",
      "text/plain": [
       "<Figure size 432x288 with 1 Axes>"
      ]
     },
     "metadata": {
      "needs_background": "light"
     },
     "output_type": "display_data"
    }
   ],
   "source": [
    "fpr, tpr, tr = roc_curve(df_actual_predicted['y_actual'], df_actual_predicted['y_pred_proba'])\n",
    "auc = roc_auc_score(df_actual_predicted['y_actual'], df_actual_predicted['y_pred_proba'])\n",
    "\n",
    "plt.plot(fpr, tpr, label='AUC = %0.4f' %auc)\n",
    "plt.plot(fpr, fpr, linestyle = '--', color='k')\n",
    "plt.xlabel('False Positive Rate')\n",
    "plt.ylabel('True Positive Rate')\n",
    "plt.title('ROC Curve')\n",
    "plt.legend()"
   ]
  },
  {
   "cell_type": "markdown",
   "id": "6f7fefc9-5711-4395-a7a9-2726c9bcef5d",
   "metadata": {},
   "source": [
    "## KS"
   ]
  },
  {
   "cell_type": "code",
   "execution_count": 67,
   "id": "4de60f98-18de-417d-a3d9-47f8960024a0",
   "metadata": {},
   "outputs": [],
   "source": [
    "df_actual_predicted = df_actual_predicted.sort_values('y_pred_proba')\n",
    "df_actual_predicted = df_actual_predicted.reset_index()\n",
    "\n",
    "df_actual_predicted['Cumulative N Population'] = df_actual_predicted.index + 1\n",
    "df_actual_predicted['Cumulative N Bad'] = df_actual_predicted['y_actual'].cumsum()\n",
    "df_actual_predicted['Cumulative N Good'] = df_actual_predicted['Cumulative N Population'] - df_actual_predicted['Cumulative N Bad']\n",
    "df_actual_predicted['Cumulative Perc Population'] = df_actual_predicted['Cumulative N Population'] / df_actual_predicted.shape[0]\n",
    "df_actual_predicted['Cumulative Perc Bad'] = df_actual_predicted['Cumulative N Bad'] / df_actual_predicted['y_actual'].sum()\n",
    "df_actual_predicted['Cumulative Perc Good'] = df_actual_predicted['Cumulative N Good'] / (df_actual_predicted.shape[0] - df_actual_predicted['y_actual'].sum())"
   ]
  },
  {
   "cell_type": "code",
   "execution_count": 68,
   "id": "cfe33b5b-1a6e-4159-807b-fd93ddbf86ef",
   "metadata": {},
   "outputs": [
    {
     "data": {
      "text/plain": [
       "Text(0.5, 1.0, 'Kolmogorov-Smirnov:  0.3762')"
      ]
     },
     "execution_count": 68,
     "metadata": {},
     "output_type": "execute_result"
    },
    {
     "data": {
      "image/png": "[encoded data removed]",
      "text/plain": [
       "<Figure size 432x288 with 1 Axes>"
      ]
     },
     "metadata": {
      "needs_background": "light"
     },
     "output_type": "display_data"
    }
   ],
   "source": [
    "KS = max(df_actual_predicted['Cumulative Perc Good'] - df_actual_predicted['Cumulative Perc Bad'])\n",
    "\n",
    "plt.plot(df_actual_predicted['y_pred_proba'], df_actual_predicted['Cumulative Perc Bad'], color='r')\n",
    "plt.plot(df_actual_predicted['y_pred_proba'], df_actual_predicted['Cumulative Perc Good'], color='b')\n",
    "plt.xlabel('Estimated Probability for Being Bad')\n",
    "plt.ylabel('Cumulative %')\n",
    "plt.title('Kolmogorov-Smirnov:  %0.4f' %KS)"
   ]
  },
  {
   "cell_type": "markdown",
   "id": "663f42ea-ebfb-4f0d-b0ad-0ed583e190f7",
   "metadata": {},
   "source": [
    "Model yang dibangun menghasilkan performa AUC = 0.857 dan KS = 0.56. Pada dunia credit risk modeling, umumnya AUC di atas 0.7 dan KS di atas 0.3 sudah termasuk performa yang baik."
   ]
  },
  {
   "cell_type": "markdown",
   "id": "f1b5644f-0629-4eff-8dc0-1ffaac02fdc6",
   "metadata": {},
   "source": [
    "# Feature Importance"
   ]
  },
  {
   "cell_type": "code",
   "execution_count": 69,
   "id": "fc1a157c-21e3-4abe-9945-5e698fefa2a6",
   "metadata": {},
   "outputs": [],
   "source": [
    "def plot_feature_importance(importance,names,model_type):\n",
    "\n",
    "#Create arrays from feature importance and feature names\n",
    "    feature_importance = np.array(importance)\n",
    "    feature_names = np.array(names)\n",
    "\n",
    "#Create a DataFrame using a Dictionary\n",
    "    data={'feature_names':feature_names,'feature_importance':feature_importance}\n",
    "    fi_df = pd.DataFrame(data)\n",
    "\n",
    "#Sort the DataFrame in order decreasing feature importance\n",
    "    fi_df.sort_values(by=['feature_importance'], ascending=False,inplace=True)\n",
    "\n",
    "#Define size of bar plot\n",
    "    plt.figure(figsize=(10,15))\n",
    "#Plot Searborn bar chart\n",
    "    sns.barplot(x=fi_df['feature_importance'], y=fi_df['feature_names'])\n",
    "#Add chart labels\n",
    "    plt.title(model_type + ' ' + 'FEATURE IMPORTANCE')\n",
    "    plt.xlabel('FEATURE IMPORTANCE')\n",
    "    plt.ylabel('FEATURE NAMES')"
   ]
  },
  {
   "cell_type": "code",
   "execution_count": 70,
   "id": "efe7a731-b0a6-44dc-8ae0-21a70ddc443e",
   "metadata": {},
   "outputs": [
    {
     "data": {
      "image/png": "[encoded data removed]",
      "text/plain": [
       "<Figure size 720x1080 with 1 Axes>"
      ]
     },
     "metadata": {
      "needs_background": "light"
     },
     "output_type": "display_data"
    }
   ],
   "source": [
    "plot_feature_importance(dt.feature_importances_,X_train.columns,'DECISSION TREE')"
   ]
  },
  {
   "cell_type": "code",
   "execution_count": 71,
   "id": "c97f6662-ea17-4135-aee1-86a81d191697",
   "metadata": {},
   "outputs": [
    {
     "data": {
      "image/png": "[encoded data removed]",
      "text/plain": [
       "<Figure size 720x1080 with 1 Axes>"
      ]
     },
     "metadata": {
      "needs_background": "light"
     },
     "output_type": "display_data"
    }
   ],
   "source": [
    "plot_feature_importance(rfc.feature_importances_,X_train.columns,'RANDOM FOREST')"
   ]
  },
  {
   "cell_type": "markdown",
   "id": "1b9f6a0e-83cd-4fc0-8821-22893cfb4cae",
   "metadata": {},
   "source": [
    "Dengan menggunakan model decission tree dan random forest classifier, kita mampu melihat feature yang paling penting dalam membangun model.\n",
    "\n",
    "Dalam algoritma decission tree dan random forest classifier, dapat kita lihat bahwa age merupakan feature yang sangat penting dalam menentukan apakah credit score baik atau tidak. Feature penting lain adalah total amount income dan years employment"
   ]
  },
  {
   "cell_type": "markdown",
   "id": "b52810e3-62af-4d8c-a889-44c6770cd758",
   "metadata": {},
   "source": [
    "Kesimpulan\n",
    "1. Model yang dibangun menghasilkan performa AUC = 0.857 dan KS = 0.56. Pada dunia credit risk modeling, umumnya AUC di atas 0.7 dan KS di atas 0.3 sudah termasuk performa yang baik."
   ]
  },
  {
   "cell_type": "markdown",
   "id": "314f23f4-dba1-4f29-8830-5e9f452083cb",
   "metadata": {},
   "source": [
    "SARAN\n",
    "\n",
    "Melakukan hyperparameter tuning agar mendapatkan hasil yang lebih baik"
   ]
  },
  {
   "cell_type": "code",
   "execution_count": null,
   "id": "0b4c4931-de88-435f-8589-8a99c833df92",
   "metadata": {},
   "outputs": [],
   "source": []
  }
 ],
 "metadata": {
  "kernelspec": {
   "display_name": "Python 3 (ipykernel)",
   "language": "python",
   "name": "python3"
  },
  "language_info": {
   "codemirror_mode": {
    "name": "ipython",
    "version": 3
   },
   "file_extension": ".py",
   "mimetype": "text/x-python",
   "name": "python",
   "nbconvert_exporter": "python",
   "pygments_lexer": "ipython3",
   "version": "3.9.7"
  }
 },
 "nbformat": 4,
 "nbformat_minor": 5
}
